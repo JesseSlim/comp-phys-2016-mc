{
 "cells": [
  {
   "cell_type": "code",
   "execution_count": 1,
   "metadata": {
    "collapsed": false
   },
   "outputs": [
    {
     "name": "stdout",
     "output_type": "stream",
     "text": [
      "Simulation progress: 0%\n",
      "Simulation progress: 1%\n",
      "Simulation progress: 2%\n",
      "Simulation progress: 3%\n",
      "Simulation progress: 4%\n",
      "Simulation progress: 5%\n",
      "Simulation progress: 6%\n",
      "Simulation progress: 7%\n",
      "Simulation progress: 8%\n",
      "Simulation progress: 9%\n",
      "Simulation progress: 10%\n",
      "Simulation progress: 11%\n",
      "Simulation progress: 12%\n",
      "Simulation progress: 13%\n",
      "Simulation progress: 14%\n",
      "Simulation progress: 15%\n",
      "Simulation progress: 16%\n",
      "Simulation progress: 17%\n",
      "Simulation progress: 18%\n",
      "Simulation progress: 19%\n",
      "Simulation progress: 20%\n",
      "Simulation progress: 21%\n",
      "Simulation progress: 22%\n",
      "Simulation progress: 23%\n",
      "Simulation progress: 24%\n",
      "Simulation progress: 25%\n",
      "Simulation progress: 26%\n",
      "Simulation progress: 27%\n",
      "Simulation progress: 28%\n",
      "Simulation progress: 29%\n",
      "Simulation progress: 30%\n",
      "Simulation progress: 31%\n",
      "Simulation progress: 32%\n",
      "Simulation progress: 33%\n",
      "Simulation progress: 34%\n",
      "Simulation progress: 35%\n",
      "Simulation progress: 36%\n",
      "Simulation progress: 37%\n",
      "Simulation progress: 38%\n",
      "Simulation progress: 39%\n",
      "Simulation progress: 40%\n",
      "Simulation progress: 41%\n",
      "Simulation progress: 42%\n",
      "Simulation progress: 43%\n",
      "Simulation progress: 44%\n",
      "Simulation progress: 45%\n",
      "Simulation progress: 46%\n",
      "Simulation progress: 47%\n",
      "Simulation progress: 48%\n",
      "Simulation progress: 49%\n",
      "Simulation progress: 50%\n",
      "Simulation progress: 51%\n",
      "Simulation progress: 52%\n",
      "Simulation progress: 53%\n",
      "Simulation progress: 54%\n",
      "Simulation progress: 55%\n",
      "Simulation progress: 56%\n",
      "Simulation progress: 57%\n",
      "Simulation progress: 58%\n",
      "Simulation progress: 59%\n",
      "Simulation progress: 60%\n",
      "Simulation progress: 61%\n",
      "Simulation progress: 62%\n",
      "Simulation progress: 63%\n",
      "Simulation progress: 64%\n",
      "Simulation progress: 65%\n",
      "Simulation progress: 66%\n",
      "Simulation progress: 67%\n",
      "Simulation progress: 68%\n",
      "Simulation progress: 69%\n",
      "Simulation progress: 70%\n",
      "Simulation progress: 71%\n",
      "Simulation progress: 72%\n",
      "Simulation progress: 73%\n",
      "Simulation progress: 74%\n",
      "Simulation progress: 75%\n",
      "Simulation progress: 76%\n",
      "Simulation progress: 77%\n",
      "Simulation progress: 78%\n",
      "Simulation progress: 79%\n",
      "Simulation progress: 80%\n",
      "Simulation progress: 81%\n",
      "Simulation progress: 82%\n",
      "Simulation progress: 83%\n",
      "Simulation progress: 84%\n",
      "Simulation progress: 85%\n",
      "Simulation progress: 86%\n",
      "Simulation progress: 87%\n",
      "Simulation progress: 88%\n",
      "Simulation progress: 89%\n",
      "Simulation progress: 90%\n",
      "Simulation progress: 91%\n",
      "Simulation progress: 92%\n",
      "Simulation progress: 93%\n",
      "Simulation progress: 94%\n",
      "Simulation progress: 95%\n",
      "Simulation progress: 96%\n",
      "Simulation progress: 97%\n",
      "Simulation progress: 98%\n",
      "Simulation progress: 99%\n",
      "Simulation finished\n"
     ]
    }
   ],
   "source": [
    "%matplotlib inline\n",
    "\n",
    "from ArgonSimulation import ArgonSimulation\n",
    "import numpy as np\n",
    "from numba import jit\n",
    "import matplotlib.pyplot as plt\n",
    "from mpl_toolkits.mplot3d import Axes3D\n",
    "import time\n",
    "import sys\n",
    "\n",
    "sim = ArgonSimulation()\n",
    "sim.initialise_arrays(3.0, 0.08, 3)\n",
    "sim.do_simulation()"
   ]
  },
  {
   "cell_type": "code",
   "execution_count": 2,
   "metadata": {
    "collapsed": false
   },
   "outputs": [
    {
     "name": "stdout",
     "output_type": "stream",
     "text": [
      "Initial K: 483.619443161\n",
      "Initial U: -9.67624805867\n",
      "Initial H: 473.943195102\n",
      "\n",
      "Average K: 486.044411411\n",
      "Average U: -50.8545080144\n",
      "Average H: 435.189903396\n",
      "Average T: 3.00027414451\n"
     ]
    },
    {
     "data": {
      "text/plain": [
       "[<matplotlib.lines.Line2D at 0x15ccd2b38>]"
      ]
     },
     "execution_count": 2,
     "metadata": {},
     "output_type": "execute_result"
    },
    {
     "data": {
      "image/png": "[encoded data removed]",
      "text/plain": [
       "<matplotlib.figure.Figure at 0x15c85f2b0>"
      ]
     },
     "metadata": {},
     "output_type": "display_data"
    }
   ],
   "source": [
    "K = sim.K\n",
    "U = sim.U\n",
    "n = sim.n\n",
    "equilibriumStart = sim.equilibriumStart\n",
    "\n",
    "H = K + U\n",
    "T = 2*K/(3*n)\n",
    "\n",
    "print(\"Initial K: \" + str(K[0]))\n",
    "print(\"Initial U: \" + str(U[0]))\n",
    "print(\"Initial H: \" + str(H[0]))\n",
    "print(\"\")\n",
    "print(\"Average K: \" + str(np.mean(K[equilibriumStart:])))\n",
    "print(\"Average U: \" + str(np.mean(U[equilibriumStart:])))\n",
    "print(\"Average H: \" + str(np.mean(H[equilibriumStart:])))\n",
    "\n",
    "avgT = np.mean(T[equilibriumStart:])\n",
    "\n",
    "print(\"Average T: \" + str(avgT))\n",
    "\n",
    "plt.plot(K)\n",
    "plt.plot(U)\n",
    "plt.plot(H)"
   ]
  },
  {
   "cell_type": "code",
   "execution_count": null,
   "metadata": {
    "collapsed": true
   },
   "outputs": [],
   "source": []
  }
 ],
 "metadata": {
  "kernelspec": {
   "display_name": "Python 3",
   "language": "python",
   "name": "python3"
  },
  "language_info": {
   "codemirror_mode": {
    "name": "ipython",
    "version": 3
   },
   "file_extension": ".py",
   "mimetype": "text/x-python",
   "name": "python",
   "nbconvert_exporter": "python",
   "pygments_lexer": "ipython3",
   "version": "3.5.1"
  }
 },
 "nbformat": 4,
 "nbformat_minor": 0
}
