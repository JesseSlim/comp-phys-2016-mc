{
 "cells": [
  {
   "cell_type": "code",
   "execution_count": 1,
   "metadata": {
    "collapsed": true
   },
   "outputs": [],
   "source": [
    "%matplotlib inline\n",
    "import sys\n",
    "import math\n",
    "import time\n",
    "import random\n",
    "import collections\n",
    "import numpy as np\n",
    "from numba import jit\n",
    "import matplotlib.pyplot as plt\n",
    "from Polymer import Polymer\n",
    "from copy import deepcopy\n",
    "import scipy.io as sio\n",
    "import os.path"
   ]
  },
  {
   "cell_type": "code",
   "execution_count": 2,
   "metadata": {
    "collapsed": false
   },
   "outputs": [
    {
     "ename": "SyntaxError",
     "evalue": "invalid syntax (<ipython-input-2-0577c722af8c>, line 58)",
     "output_type": "error",
     "traceback": [
      "\u001b[1;36m  File \u001b[1;32m\"<ipython-input-2-0577c722af8c>\"\u001b[1;36m, line \u001b[1;32m58\u001b[0m\n\u001b[1;33m    lowLim = 1.5 ** (math.log(alive,10)-1\u001b[0m\n\u001b[1;37m         ^\u001b[0m\n\u001b[1;31mSyntaxError\u001b[0m\u001b[1;31m:\u001b[0m invalid syntax\n"
     ]
    }
   ],
   "source": [
    "def recursiveGrowth(pol):\n",
    "    global polarray\n",
    "    global max_polymer_size\n",
    "    global polymer_count\n",
    "    if (len(polarray) >= polymer_count):\n",
    "        return\n",
    "    weight = pol.addBead()\n",
    "    avweight = getAverageWeight();\n",
    "    upLim = 2 * avweight / pol.weight3\n",
    "    lowLim = 1.2 * avweight / pol.weight3\n",
    "    if (pol.size >= max_polymer_size):\n",
    "        return\n",
    "    if (pol.weight > upLim):\n",
    "        pol.weight = pol.weight / 2;\n",
    "        tpol = deepcopy(pol)\n",
    "        polarray.append(tpol)\n",
    "        if (len(polarray)%1000 == 0):\n",
    "            print(\"Simulation progress: \" + str(int(len(polarray)*100/polymer_count)) + \"%\") \n",
    "            sys.stdout.flush()\n",
    "        recursiveGrowth(pol)\n",
    "        recursiveGrowth(tpol)\n",
    "    if (pol.weight < lowLim):\n",
    "        rand = random.uniform(0,1)\n",
    "        if (rand < 0.5):\n",
    "            pol.weight = pol.weight * 2\n",
    "            recursiveGrowth(pol)\n",
    "        else:\n",
    "            pol.alive = False;\n",
    "\n",
    "def getAverageWeight():\n",
    "    global polarray;\n",
    "    weight_count = 0\n",
    "    weight = 0\n",
    "    for i in range(0, len(polarray)):\n",
    "        if (polarray[i].alive):\n",
    "            weight_count = weight_count + 1\n",
    "            weight += polarray[i].weight\n",
    "    avgweight = weight / weight_count\n",
    "    return avgweight\n",
    "\n",
    "def Grow(polarray):  # Add a bead to all living polymers\n",
    "    for i in range(0, len(polarray)):\n",
    "        if (polarray[i].alive):\n",
    "            polarray[i].addBead()\n",
    "    return polarray\n",
    "\n",
    "def Prune(polarray):  # Prune the polymers on their average weight\n",
    "    # Calculate the average weight of the living polymers\n",
    "    weight = 0\n",
    "    alive = 0\n",
    "    for i in range(0, len(polarray)):\n",
    "        if (polarray[i].alive):\n",
    "            weight += polarray[i].weight\n",
    "            alive += 1\n",
    "    weight = weight / alive;\n",
    "    # Prune the polymers on their weight\n",
    "    upLim = 2 ** (math.log(alive,10)-1)\n",
    "    lowLim = 1.5 ** (math.log(alive,10)-1)\n",
    "    print(\"Alive: \"+str(alive) + \" Weight: \"+str(weight))\n",
    "    print(\"Uplim = \"+str(upLim)+\" LowLim = \"+str(lowLim))\n",
    "    for i in range(0, len(polarray)):\n",
    "        if (polarray[i].alive):\n",
    "            if (polarray[i].weight > upLim * weight / polarray[i].weight3): # Branch\n",
    "                polarray[i].weight /= 2;\n",
    "                polarray.append(deepcopy(polarray[i]))\n",
    "            if (polarray[i].weight < lowLim * weight / polarray[i].weight3): # Prune\n",
    "                rand = random.uniform(0,1)\n",
    "                if (rand < 0.5):\n",
    "                    polarray[i].weight *= 2\n",
    "                else:\n",
    "                    polarray[i].alive = False;\n",
    "    return polarray"
   ]
  },
  {
   "cell_type": "code",
   "execution_count": null,
   "metadata": {
    "collapsed": true
   },
   "outputs": [],
   "source": []
  },
  {
   "cell_type": "code",
   "execution_count": null,
   "metadata": {
    "collapsed": false
   },
   "outputs": [],
   "source": [
    "bead_position = np.zeros([2,2])       # Initialize array\n",
    "bead_position[1,:] = [1,0]            # Set initial condition\n",
    "polymer_size = 2                      # Amount of beads in the polymer\n",
    "max_polymer_size = 250                # Maximum polymer size\n",
    "polymer_count = 1E5                   # Amount of polymers that we are simulating\n",
    "\n",
    "T = 5                                 # Temperature in kelvin\n",
    "epsilon = 0.25                        # Epsilon voor de lennard Jones\n",
    "sigma = 0.8                           # Sigma voor de Lennard Jones\n",
    "\n",
    "theta = 6                             # Number of angles\n",
    "theta_weight = np.zeros([theta,1])    # Weight of angles\n",
    "theta_weight_sum = 0                  # Sum of the weights\n",
    "polymer_weight = 1                    # Weight\n",
    "\n",
    "polarray = []                         # List containing all the polymers\n",
    "\n",
    "# We start with 5 polymers.\n",
    "for i in range(0,1000):\n",
    "    pol = Polymer(bead_position, polymer_weight, 2, theta, epsilon, sigma, T)\n",
    "    polarray.append(pol)\n",
    "\n",
    "for l in range (2,250):\n",
    "    polarray = Grow(polarray)\n",
    "    polarray = Prune(polarray)\n",
    "    print(\"Polymer length \" + str(len(polarray)) + \"  Size = \"+str(l)) \n",
    "    sys.stdout.flush()\n",
    "print(\"Done\")"
   ]
  },
  {
   "cell_type": "code",
   "execution_count": null,
   "metadata": {
    "collapsed": false
   },
   "outputs": [],
   "source": [
    "print(len(polarray))\n",
    "dist = np.zeros([max_polymer_size+1, 3])\n",
    "positions = np.zeros([max_polymer_size+1, len(polarray),2])\n",
    "for i in range(2, max_polymer_size+1):\n",
    "    dist[i,0] = i;\n",
    "    dis = 0\n",
    "    c = 0\n",
    "    for j in range(0, len(polarray)):\n",
    "        if (polarray[j].size >=i):\n",
    "            dis += polarray[j].getLength(i)\n",
    "            positions[i,j,:] = polarray[j].getPosition(i-1)\n",
    "            c = c + 1\n",
    "    if (c > 0):\n",
    "        dist[i,1] = (dis / c)\n",
    "    else:\n",
    "        dist[i,1] = 0\n",
    "    dist[i,2] = dist[i,0] ** 0.75\n",
    "name_i = 0;\n",
    "while (os.path.isfile('DataPoints/data_file_'+str(name_i)+'.mat') != False):\n",
    "    name_i = name_i + 1\n",
    "sio.savemat('DataPoints/data_file_'+str(name_i)+'.mat', {'Distances':dist, 'Positions':positions})"
   ]
  }
 ],
 "metadata": {
  "kernelspec": {
   "display_name": "Python 3",
   "language": "python",
   "name": "python3"
  },
  "language_info": {
   "codemirror_mode": {
    "name": "ipython",
    "version": 3
   },
   "file_extension": ".py",
   "mimetype": "text/x-python",
   "name": "python",
   "nbconvert_exporter": "python",
   "pygments_lexer": "ipython3",
   "version": "3.5.1"
  }
 },
 "nbformat": 4,
 "nbformat_minor": 0
}
