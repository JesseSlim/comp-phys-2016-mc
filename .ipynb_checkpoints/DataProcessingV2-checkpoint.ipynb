{
 "cells": [
  {
   "cell_type": "code",
   "execution_count": 2,
   "metadata": {
    "collapsed": true
   },
   "outputs": [],
   "source": [
    "%matplotlib inline\n",
    "#%matplotlib qt\n",
    "import os\n",
    "import numpy as np\n",
    "import matplotlib.pyplot as plt\n",
    "from mpl_toolkits.mplot3d import Axes3D\n",
    "import scipy.io as sio"
   ]
  },
  {
   "cell_type": "code",
   "execution_count": 14,
   "metadata": {
    "collapsed": false,
    "scrolled": true
   },
   "outputs": [
    {
     "name": "stdout",
     "output_type": "stream",
     "text": [
      "Save_1.npz\n",
      "I = 1 & F = 0.8\n",
      "Save_10.npz\n",
      "I = 2 & F = 0.30000000000000004\n",
      "Save_11.npz\n",
      "I = 3 & F = 0.6\n",
      "Save_12.npz\n",
      "I = 4 & F = 0.8999999999999999\n",
      "Save_13.npz\n",
      "I = 5 & F = 0.7\n",
      "Save_14.npz\n",
      "I = 6 & F = 0.7999999999999999\n",
      "Save_15.npz\n",
      "I = 7 & F = 0.9999999999999999\n",
      "Save_16.npz\n",
      "I = 8 & F = 1.0999999999999999\n",
      "Save_17.npz\n",
      "I = 9 & F = 1.2\n",
      "Save_18.npz\n",
      "I = 10 & F = 1.3\n",
      "Save_19.npz\n",
      "I = 11 & F = 1.4000000000000001\n",
      "Save_2.npz\n",
      "I = 12 & F = 1.1\n",
      "Save_20.npz\n",
      "I = 13 & F = 1.5000000000000002\n",
      "Save_21.npz\n",
      "I = 14 & F = 1.6000000000000003\n",
      "Save_22.npz\n",
      "I = 15 & F = 1.7000000000000004\n",
      "Save_23.npz\n",
      "I = 16 & F = 1.8000000000000005\n",
      "Save_24.npz\n",
      "I = 17 & F = 1.9000000000000006\n",
      "Save_25.npz\n",
      "I = 18 & F = 0.15000000000000002\n",
      "Save_26.npz\n",
      "I = 19 & F = 0.2\n",
      "Save_27.npz\n",
      "I = 20 & F = 0.25\n",
      "Save_28.npz\n",
      "I = 21 & F = 0.1\n",
      "Save_29.npz\n",
      "I = 22 & F = 0.3\n",
      "Save_3.npz\n",
      "I = 23 & F = 0.2\n",
      "Save_30.npz\n",
      "I = 24 & F = 0.35\n",
      "Save_31.npz\n",
      "I = 25 & F = 0.39999999999999997\n",
      "Save_32.npz\n",
      "I = 26 & F = 0.44999999999999996\n",
      "Save_33.npz\n",
      "I = 27 & F = 0.49999999999999994\n",
      "Save_34.npz\n",
      "I = 28 & F = 0.25\n",
      "Save_35.npz\n",
      "I = 29 & F = 0.15\n",
      "Save_36.npz\n",
      "I = 30 & F = 0.2\n",
      "Save_37.npz\n",
      "I = 31 & F = 0.3\n",
      "Save_38.npz\n",
      "I = 32 & F = 0.49999999999999994\n",
      "Save_39.npz\n",
      "I = 33 & F = 0.35\n",
      "Save_4.npz\n",
      "I = 34 & F = 0.5\n",
      "Save_40.npz\n",
      "I = 35 & F = 0.3\n",
      "Save_41.npz\n",
      "I = 36 & F = 0.2\n",
      "Save_42.npz\n",
      "I = 37 & F = 0.15\n",
      "Save_43.npz\n",
      "I = 38 & F = 0.25\n",
      "Save_44.npz\n",
      "I = 39 & F = 0.35\n",
      "Save_45.npz\n",
      "I = 40 & F = 0.44999999999999996\n",
      "Save_46.npz\n",
      "I = 41 & F = 0.49999999999999994\n",
      "Save_47.npz\n",
      "I = 42 & F = 0.39999999999999997\n",
      "Save_48.npz\n",
      "I = 43 & F = 0.5499999999999999\n",
      "Save_49.npz\n",
      "I = 44 & F = 0.6\n",
      "Save_5.npz\n",
      "I = 45 & F = 1.4000000000000001\n",
      "Save_50.npz\n",
      "I = 46 & F = 0.65\n",
      "Save_51.npz\n",
      "I = 47 & F = 0.7000000000000001\n",
      "Save_52.npz\n",
      "I = 48 & F = 0.7500000000000001\n",
      "Save_53.npz\n",
      "I = 49 & F = 0.8000000000000002\n",
      "Save_54.npz\n",
      "I = 50 & F = 0.9000000000000002\n",
      "Save_55.npz\n",
      "I = 51 & F = 0.8500000000000002\n",
      "Save_56.npz\n",
      "I = 52 & F = 0.9500000000000003\n",
      "Save_6.npz\n",
      "I = 53 & F = 1.7000000000000002\n",
      "Save_7.npz\n",
      "I = 54 & F = 0.4\n",
      "Save_8.npz\n",
      "I = 55 & F = 0.5\n",
      "Save_9.npz\n",
      "I = 56 & F = 0.2\n"
     ]
    }
   ],
   "source": [
    "Folder   = \"V2/Data\";                           # Folder in which we are going to get data\n",
    "Variable = \"Force\";                             # Variable which we want to look at\n",
    "Data     = {}                                   # Dictionary which saves the data\n",
    "\n",
    "F = np.zeros([250]);\n",
    "T = np.zeros([250]);\n",
    "N = np.zeros([250]);\n",
    "R = np.zeros([250]);\n",
    "\n",
    "Files = os.listdir(Folder);\n",
    "cont = False;\n",
    "i = 0\n",
    "for Filename in Files:\n",
    "    if (cont == True):\n",
    "        continue;\n",
    "    #cont = True;\n",
    "    if str(Filename).endswith('.npz'):   # Check for file extension\n",
    "        print(Filename)\n",
    "        Case = np.load(str(Folder)+\"/\"+str(Filename));\n",
    "        norm = np.sum(np.linalg.norm(Case['r'], axis=2), axis=0) / Case['n'];\n",
    "        if (i == 0):\n",
    "            R = norm;\n",
    "            N = np.arange(1,251,1)\n",
    "            F =  np.tile(Case['F'], 250)\n",
    "            T =  np.tile(Case['T'], 250)\n",
    "        else:\n",
    "            R = np.vstack([R, norm]);\n",
    "            N = np.vstack([N, np.arange(1,251,1)]);\n",
    "            F = np.vstack([F, np.tile(Case['F'], 250)])\n",
    "            T = np.vstack([T, np.tile(Case['T'], 250)])\n",
    "        i = i + 1;\n",
    "        print(\"I = \"+str(i)+\" & F = \"+str(Case['T']));\n",
    "        \n",
    "        del Case"
   ]
  },
  {
   "cell_type": "code",
   "execution_count": null,
   "metadata": {
    "collapsed": true
   },
   "outputs": [],
   "source": []
  },
  {
   "cell_type": "code",
   "execution_count": 9,
   "metadata": {
    "collapsed": false,
    "scrolled": true
   },
   "outputs": [
    {
     "name": "stdout",
     "output_type": "stream",
     "text": [
      "0.6\n",
      "R[2,0] = 47.9604424817;\n",
      "0.6\n",
      "R[2,13] = 217.476372883;\n",
      "0.6\n",
      "R[2,10] = 207.964386581;\n",
      "1.8\n",
      "R[8,4] = 129.799436787;\n",
      "1.8\n",
      "R[8,5] = 137.97941447;\n",
      "1.8\n",
      "R[8,6] = 144.462047854;\n",
      "1.8\n",
      "R[8,7] = 150.286537599;\n",
      "1.8\n",
      "R[8,8] = 156.051135818;\n",
      "1.8\n",
      "R[8,9] = 160.479585123;\n",
      "1.8\n",
      "R[8,10] = 164.922180299;\n",
      "1.8\n",
      "R[8,11] = 168.777480263;\n",
      "1.8\n",
      "R[8,12] = 172.204558028;\n",
      "1.8\n",
      "R[8,13] = 175.563095333;\n",
      "0.6\n",
      "R[2,9] = 203.64797104;\n",
      "1.8\n",
      "R[8,14] = 178.484329294;\n",
      "1.8\n",
      "R[8,15] = 181.535788106;\n",
      "2.0\n",
      "R[9,0] = 51.9882506486;\n"
     ]
    },
    {
     "ename": "KeyboardInterrupt",
     "evalue": "",
     "output_type": "error",
     "traceback": [
      "\u001b[1;31m---------------------------------------------------------------------------\u001b[0m",
      "\u001b[1;31mKeyboardInterrupt\u001b[0m                         Traceback (most recent call last)",
      "\u001b[1;32m<ipython-input-9-98c07b60e888>\u001b[0m in \u001b[0;36m<module>\u001b[1;34m()\u001b[0m\n\u001b[0;32m     21\u001b[0m         \u001b[1;31m#print(Filename)\u001b[0m\u001b[1;33m\u001b[0m\u001b[1;33m\u001b[0m\u001b[0m\n\u001b[0;32m     22\u001b[0m         \u001b[0mCase\u001b[0m \u001b[1;33m=\u001b[0m \u001b[0mnp\u001b[0m\u001b[1;33m.\u001b[0m\u001b[0mload\u001b[0m\u001b[1;33m(\u001b[0m\u001b[0mstr\u001b[0m\u001b[1;33m(\u001b[0m\u001b[0mFolder\u001b[0m\u001b[1;33m)\u001b[0m\u001b[1;33m+\u001b[0m\u001b[1;34m\"/\"\u001b[0m\u001b[1;33m+\u001b[0m\u001b[0mstr\u001b[0m\u001b[1;33m(\u001b[0m\u001b[0mFilename\u001b[0m\u001b[1;33m)\u001b[0m\u001b[1;33m)\u001b[0m\u001b[1;33m;\u001b[0m\u001b[1;33m\u001b[0m\u001b[0m\n\u001b[1;32m---> 23\u001b[1;33m         \u001b[0mnorm\u001b[0m \u001b[1;33m=\u001b[0m \u001b[0mnp\u001b[0m\u001b[1;33m.\u001b[0m\u001b[0msum\u001b[0m\u001b[1;33m(\u001b[0m\u001b[0mnp\u001b[0m\u001b[1;33m.\u001b[0m\u001b[0mlinalg\u001b[0m\u001b[1;33m.\u001b[0m\u001b[0mnorm\u001b[0m\u001b[1;33m(\u001b[0m\u001b[0mCase\u001b[0m\u001b[1;33m[\u001b[0m\u001b[1;34m'r'\u001b[0m\u001b[1;33m]\u001b[0m\u001b[1;33m,\u001b[0m \u001b[0maxis\u001b[0m\u001b[1;33m=\u001b[0m\u001b[1;36m2\u001b[0m\u001b[1;33m)\u001b[0m\u001b[1;33m,\u001b[0m \u001b[0maxis\u001b[0m\u001b[1;33m=\u001b[0m\u001b[1;36m0\u001b[0m\u001b[1;33m)\u001b[0m \u001b[1;33m/\u001b[0m \u001b[0mCase\u001b[0m\u001b[1;33m[\u001b[0m\u001b[1;34m'n'\u001b[0m\u001b[1;33m]\u001b[0m\u001b[1;33m;\u001b[0m\u001b[1;33m\u001b[0m\u001b[0m\n\u001b[0m\u001b[0;32m     24\u001b[0m         \u001b[0mf\u001b[0m \u001b[1;33m=\u001b[0m \u001b[0mCase\u001b[0m\u001b[1;33m[\u001b[0m\u001b[1;34m'F'\u001b[0m\u001b[1;33m]\u001b[0m\u001b[1;33m;\u001b[0m\u001b[1;33m\u001b[0m\u001b[0m\n\u001b[0;32m     25\u001b[0m         \u001b[0mt\u001b[0m \u001b[1;33m=\u001b[0m \u001b[0mCase\u001b[0m\u001b[1;33m[\u001b[0m\u001b[1;34m'T'\u001b[0m\u001b[1;33m]\u001b[0m\u001b[1;33m;\u001b[0m\u001b[1;33m\u001b[0m\u001b[0m\n",
      "\u001b[1;32mC:\\Users\\Sybren Zwetsloot\\Anaconda3\\lib\\site-packages\\numpy\\linalg\\linalg.py\u001b[0m in \u001b[0;36mnorm\u001b[1;34m(x, ord, axis, keepdims)\u001b[0m\n\u001b[0;32m   2155\u001b[0m             \u001b[1;31m# special case for speedup\u001b[0m\u001b[1;33m\u001b[0m\u001b[1;33m\u001b[0m\u001b[0m\n\u001b[0;32m   2156\u001b[0m             \u001b[0ms\u001b[0m \u001b[1;33m=\u001b[0m \u001b[1;33m(\u001b[0m\u001b[0mx\u001b[0m\u001b[1;33m.\u001b[0m\u001b[0mconj\u001b[0m\u001b[1;33m(\u001b[0m\u001b[1;33m)\u001b[0m \u001b[1;33m*\u001b[0m \u001b[0mx\u001b[0m\u001b[1;33m)\u001b[0m\u001b[1;33m.\u001b[0m\u001b[0mreal\u001b[0m\u001b[1;33m\u001b[0m\u001b[0m\n\u001b[1;32m-> 2157\u001b[1;33m             \u001b[1;32mreturn\u001b[0m \u001b[0msqrt\u001b[0m\u001b[1;33m(\u001b[0m\u001b[0madd\u001b[0m\u001b[1;33m.\u001b[0m\u001b[0mreduce\u001b[0m\u001b[1;33m(\u001b[0m\u001b[0ms\u001b[0m\u001b[1;33m,\u001b[0m \u001b[0maxis\u001b[0m\u001b[1;33m=\u001b[0m\u001b[0maxis\u001b[0m\u001b[1;33m,\u001b[0m \u001b[0mkeepdims\u001b[0m\u001b[1;33m=\u001b[0m\u001b[0mkeepdims\u001b[0m\u001b[1;33m)\u001b[0m\u001b[1;33m)\u001b[0m\u001b[1;33m\u001b[0m\u001b[0m\n\u001b[0m\u001b[0;32m   2158\u001b[0m         \u001b[1;32melse\u001b[0m\u001b[1;33m:\u001b[0m\u001b[1;33m\u001b[0m\u001b[0m\n\u001b[0;32m   2159\u001b[0m             \u001b[1;32mtry\u001b[0m\u001b[1;33m:\u001b[0m\u001b[1;33m\u001b[0m\u001b[0m\n",
      "\u001b[1;31mKeyboardInterrupt\u001b[0m: "
     ]
    }
   ],
   "source": [
    "Folder   = \"V2/Data\";                           # Folder in which we are going to get data\n",
    "Variable = \"Force\";                             # Variable which we want to look at\n",
    "Data     = {}                                   # Dictionary which saves the data\n",
    "\n",
    "f = np.linspace(0, 3, 16);\n",
    "t = np.linspace(0.2, 4, 20);\n",
    "F,T = np.meshgrid(f,t);\n",
    "R = np.zeros(np.shape(F));\n",
    "G = np.zeros(np.shape(F));\n",
    "\n",
    "R[1,0] = 47.9604424817; R[1,13] = 217.476372883; R[1,10] = 207.964386581; R[8,4] = 129.799436787; R[8,5] = 137.97941447; R[8,6] = 144.462047854; R[8,7] = 150.286537599; R[8,8] = 156.051135818; R[8,9] = 160.479585123; R[8,10] = 164.922180299; R[8,11] = 168.777480263; R[8,12] = 172.204558028; R[8,13] = 175.563095333; R[1,9] = 203.64797104; R[8,14] = 178.484329294; R[8,15] = 181.535788106; R[9,0] = 51.9882506486; R[9,1] = 82.225548974; R[9,2] = 102.582435327; R[9,3] = 115.70097583; R[9,4] = 126.101390733; R[9,5] = 133.861084022; R[9,6] = 140.687837431; R[9,7] = 147.233360842; R[1,12] = 214.73070272; R[9,8] = 152.044953493; R[9,9] = 156.508849545; R[9,10] = 160.78519077; R[9,11] = 164.640804542; R[9,12] = 168.303537788; R[9,13] = 171.284214452; R[9,14] = 174.287485037; R[9,15] = 177.153951364; R[10,1] = 79.2603027539; R[10,0] = 52.3571586303; R[1,14] = 219.788178796; R[10,2] = 99.9590900619; R[10,3] = 113.044817657; R[10,4] = 122.63784121; R[10,5] = 130.040061625; R[10,6] = 137.542363173; R[10,7] = 143.477119574; R[10,8] = 148.177854458; R[10,11] = 161.175486155; R[10,9] = 152.850299081; R[10,10] = 157.14785198; R[10,12] = 164.201640888; R[10,14] = 170.287294308; R[10,13] = 167.727089664; R[10,15] = 173.572908651; R[10,0] = 51.962422852; R[10,1] = 79.2433137665; R[10,2] = 97.3367311978; R[10,3] = 110.317303479; R[10,4] = 119.807090207; R[10,5] = 127.738488829; R[1,15] = 221.88148844; R[10,6] = 134.430040399; R[10,7] = 140.405259986; R[10,8] = 145.215944285; R[10,9] = 149.618836732; R[10,10] = 153.602267543; R[10,11] = 157.647808575; R[10,12] = 160.833892989; R[10,13] = 164.331689051; R[10,14] = 166.931916766; R[10,15] = 169.854596991; R[3,0] = 50.6953501999; R[12,0] = 52.7864526114; R[12,1] = 77.5485184881; R[12,2] = 95.2470188542; R[12,4] = 117.518236735; R[12,3] = 107.225412153; R[12,5] = 125.472610045; R[12,6] = 131.651320569; R[12,7] = 136.949910841; R[12,8] = 142.4177491; R[12,9] = 146.853934154; R[3,1] = 105.567063046; R[12,10] = 150.704834406; R[12,11] = 154.658850392; R[12,12] = 157.788870854; R[12,13] = 161.19278086; R[12,14] = 164.017603572; R[12,15] = 166.760952771; R[12,0] = 52.3291703333; R[12,1] = 75.1288481081; R[12,2] = 93.1883940703; R[12,3] = 104.645553072; R[3,2] = 130.392993809; R[12,4] = 114.676460759; R[12,6] = 128.288085274; R[12,5] = 122.139849996; R[12,7] = 133.985710068; R[12,8] = 139.142528952; R[12,9] = 143.647214614; R[12,10] = 147.948876606; R[12,11] = 151.544736267; R[12,13] = 158.210127336; R[12,12] = 154.604482947; R[3,3] = 146.224302276; R[12,14] = 160.815243242; R[12,15] = 163.502649842; R[14,0] = 53.488785232; R[14,2] = 90.8358294928; R[14,1] = 73.6768070315; R[14,3] = 102.274805791; R[14,4] = 112.645233892; R[14,6] = 126.131500923; R[14,5] = 119.699613711; R[14,7] = 131.807306994; R[1,1] = 111.717359489; R[1,11] = 211.667046755; R[3,4] = 158.097914707; R[14,8] = 136.842672738; R[14,9] = 141.411546628; R[14,10] = 144.998042706; R[14,11] = 149.132266706; R[14,12] = 152.314881586; R[14,13] = 155.462723379; R[14,15] = 160.865947814; R[14,14] = 158.048978928; R[15,0] = 53.4070009171; R[15,1] = 73.0381164661; R[3,6] = 174.996483635; R[15,2] = 88.4847206828; R[15,3] = 101.080415066; R[15,4] = 110.097644353; R[15,5] = 117.343461195; R[15,6] = 124.15890521; R[15,7] = 129.253217263; R[15,8] = 134.90343951; R[15,9] = 138.782853798; R[15,10] = 142.82008481; R[15,11] = 146.528022281; R[3,5] = 167.158572418; R[15,12] = 149.84113221; R[15,13] = 152.615528545; R[15,14] = 155.848431981; R[15,0] = 52.3444888822; R[15,15] = 158.100913134; R[15,1] = 71.3958435564; R[15,2] = 88.1992730578; R[15,3] = 98.8087552622; R[15,4] = 108.09231841; R[15,6] = 121.950079914; R[3,7] = 181.592493058; R[15,5] = 115.264934144; R[15,7] = 127.587043524; R[15,8] = 132.222124857; R[15,9] = 136.748567345; R[15,10] = 140.506132155; R[15,11] = 144.17475798; R[15,12] = 147.084321215; R[15,14] = 153.14632051; R[15,14] = 153.204247375; R[15,15] = 156.14993018; R[3,8] = 187.422850397; R[17,1] = 70.3463329905; R[17,2] = 85.5112303225; R[17,4] = 106.072604621; R[17,6] = 119.686965436; R[17,5] = 113.282246789; R[17,3] = 96.7258349099; R[17,7] = 125.315506509; R[17,8] = 130.512239661; R[17,9] = 134.359001337; R[3,9] = 192.388684242; R[17,10] = 138.190172603; R[17,11] = 141.794537019; R[17,13] = 148.342195607; R[17,12] = 145.061846625; R[17,15] = 153.880573925; R[17,14] = 150.773387199; R[18,0] = 54.6408539534; R[18,1] = 68.8902290198; R[18,2] = 84.1146862674; R[18,3] = 96.1769720475; R[3,10] = 196.986507319; R[18,6] = 118.173011257; R[18,4] = 104.771656287; R[18,5] = 111.255084581; R[18,7] = 124.140220787; R[18,8] = 128.364672635; R[18,9] = 132.571906454; R[18,10] = 136.50909189; R[18,11] = 139.94496492; R[18,13] = 146.254992718; R[18,12] = 142.915676052; R[3,11] = 200.961104627; R[18,14] = 149.227728092; R[19,0] = 52.9856102554; R[18,15] = 151.612716753; R[19,2] = 82.7697083529; R[19,1] = 69.1243782203; R[19,3] = 94.8541977394; R[19,4] = 102.589238636; R[19,5] = 110.739965693; R[19,6] = 116.326961961; R[19,7] = 122.150354671; R[3,12] = 204.471224159; R[19,8] = 126.592054165; R[19,9] = 130.593643863; R[19,10] = 133.872433854; R[19,11] = 137.602896871; R[19,12] = 141.244521266; R[19,13] = 144.242534311; R[19,14] = 146.971492596; R[19,15] = 149.978637927; R[0,1] = 116.263539829; R[0,5] = 218.911753667; R[3,13] = 207.641867181; R[0,4] = 209.396410829; R[0,3] = 193.713587349; R[0,0] = 14.2817474573; R[0,6] = 224.961877878; R[0,2] = 168.7797954; R[0,7] = 228.96938147; R[0,8] = 231.787672401; R[0,9] = 233.823228328; R[0,11] = 236.730398372; R[0,12] = 237.751512568; R[1,7] = 191.829857901; R[1,14] = 219.835246708; R[3,14] = 210.462827461; R[0,10] = 235.467818156; R[0,14] = 239.506054597; R[0,13] = 238.690000012; R[0,15] = 240.133796373; R[1,0] = 41.3370799712; R[1,2] = 150.171373876; R[1,4] = 183.126478954; R[1,1] = 118.761644279; R[1,3] = 169.13111268; R[1,5] = 193.640871433; R[3,15] = 212.973037722; R[1,7] = 208.514234735; R[1,6] = 201.999401836; R[1,8] = 213.703775885; R[1,10] = 221.342423298; R[1,9] = 217.824014681; R[1,11] = 224.030357305; R[1,13] = 228.155946252; R[1,12] = 226.260390354; R[1,15] = 231.113883916; R[1,14] = 229.712798775; R[4,0] = 50.4518996923; R[4,1] = 99.8775678329; R[4,2] = 123.984856515; R[4,3] = 138.837814599; R[4,4] = 149.963226919; R[4,5] = 159.018942944; R[4,6] = 166.606826823; R[4,7] = 173.027658487; R[1,2] = 138.985016219; R[1,12] = 214.729482629; R[4,8] = 178.829827154; R[4,9] = 183.525283175; R[4,10] = 188.126803628; R[4,11] = 192.241911047; R[4,12] = 195.784255918; R[4,14] = 202.163784962; R[4,13] = 199.200563601; R[4,15] = 204.968359317; R[5,0] = 52.2632589531; R[5,1] = 94.633893946; R[1,4] = 167.70002472; R[1,15] = 221.841237395; R[5,2] = 117.1655759; R[5,3] = 132.611171509; R[5,5] = 152.46591651; R[5,4] = 143.36646821; R[5,6] = 159.893528998; R[5,7] = 165.890910999; R[5,8] = 171.607462088; R[5,9] = 176.501475301; R[5,10] = 180.785970861; R[5,11] = 184.866865838; R[1,3] = 155.122194247; R[1,8] = 198.715269923; R[5,12] = 188.494799339; R[5,13] = 191.960161062; R[5,14] = 195.01772816; R[5,15] = 197.922920617; R[6,0] = 52.6158320404; R[6,1] = 91.0812884913; R[6,2] = 113.11473272; R[6,3] = 127.187009211; R[6,4] = 138.384047804; R[6,5] = 146.68854864; R[1,6] = 184.904011677; R[1,9] = 203.699842482; R[6,6] = 154.078361446; R[6,7] = 160.183146999; R[6,8] = 165.808354996; R[6,9] = 170.342232361; R[6,10] = 174.614352606; R[6,11] = 178.65567132; R[6,12] = 182.302966664; R[6,13] = 185.630705969; R[6,14] = 188.895178608; R[6,15] = 191.610599299; R[1,5] = 176.997751405; R[1,10] = 208.028342502; R[7,0] = 52.2559086294; R[7,1] = 88.764107519; R[7,2] = 109.388931584; R[7,3] = 123.36446617; R[7,4] = 133.602211459; R[7,5] = 142.224221553; R[7,6] = 149.174533665; R[7,8] = 160.428718146; R[7,7] = 155.171173486; R[7,9] = 165.020045137; R[1,8] = 198.823432258; R[7,10] = 169.247262371; R[7,11] = 173.294779403; R[7,12] = 176.861805408; R[7,13] = 180.262622374; R[7,14] = 183.349173759; R[7,15] = 186.32182748; R[8,0] = 53.8882326118; R[8,1] = 84.6769023424; R[8,2] = 105.683590301; R[8,3] = 119.144587846;\n",
    "\n",
    "Files = os.listdir(Folder);\n",
    "cont = False;\n",
    "i = 0\n",
    "for Filename in Files:\n",
    "    if (cont == True):\n",
    "        continue;\n",
    "    if str(Filename).endswith('.npz'):   # Check for file extension\n",
    "        #cont = True;\n",
    "        #print(Filename)\n",
    "        Case = np.load(str(Folder)+\"/\"+str(Filename));\n",
    "        norm = np.sum(np.linalg.norm(Case['r'], axis=2), axis=0) / Case['n'];\n",
    "        f = Case['F'];\n",
    "        t = Case['T'];\n",
    "        fi = int(f * 5);\n",
    "        #print(t)\n",
    "        ti = int(round((t - 0.2) * 5));\n",
    "        if (fi > 15 or ti > 20):\n",
    "            continue;\n",
    "        #print(fi)\n",
    "        #print(ti)\n",
    "        #R[ti,fi] = np.mean(Case['r_e2e'][250,:]);\n",
    "        #G[ti,fi] = np.mean(Case['r_gyration'][250,:]);\n",
    "        R[ti,fi] = norm[249];\n",
    "        print(\"R[\"+str(ti)+\",\"+str(fi)+\"] = \"+str(norm[249])+\";\");\n",
    "            \n",
    "        i = i + 1;\n",
    "        #print(\"I = \"+str(i)+\" & F = \"+str(Case['F'])+\" & T = \"+str(Case['T']));\n",
    "        \n",
    "        del Case"
   ]
  },
  {
   "cell_type": "code",
   "execution_count": 4,
   "metadata": {
    "collapsed": false
   },
   "outputs": [
    {
     "data": {
      "text/plain": [
       "<matplotlib.text.Text at 0x7e365c0>"
      ]
     },
     "execution_count": 4,
     "metadata": {},
     "output_type": "execute_result"
    },
    {
     "data": {
      "image/png": "[encoded data removed]",
      "text/plain": [
       "<matplotlib.figure.Figure at 0x7d8b898>"
      ]
     },
     "metadata": {},
     "output_type": "display_data"
    }
   ],
   "source": [
    "#ig = plt.figure()\n",
    "plt.pcolor(T,F,R);\n",
    "plt.colorbar();\n",
    "plt.xlabel('Temperature');\n",
    "plt.ylabel('Force');\n",
    "#x = fig.add_subplot(111, projection='3d')\n",
    "#x.plot_surface(T,F,R)"
   ]
  },
  {
   "cell_type": "code",
   "execution_count": 6,
   "metadata": {
    "collapsed": false
   },
   "outputs": [
    {
     "name": "stdout",
     "output_type": "stream",
     "text": [
      "[ 0.  0.  0.  0.  0.  0.  0.  0.  0.  0.  0.  0.  0.  0.  0.  0.]\n",
      "[ 0.   0.2  0.4  0.6  0.8  1.   1.2  1.4  1.6  1.8  2.   2.2  2.4  2.6  2.8\n",
      "  3. ]\n",
      "[ 2.8  2.8  2.8  2.8  2.8  2.8  2.8  2.8  2.8  2.8  2.8  2.8  2.8  2.8  2.8\n",
      "  2.8]\n"
     ]
    }
   ],
   "source": [
    "print(R[13,:])\n",
    "print(F[13,:])\n",
    "print(T[13,:])"
   ]
  },
  {
   "cell_type": "code",
   "execution_count": 15,
   "metadata": {
    "collapsed": false
   },
   "outputs": [
    {
     "name": "stdout",
     "output_type": "stream",
     "text": [
      "[ 0.8   0.3   0.6   0.9   0.7   0.8   1.    1.1   1.2   1.3   1.4   1.1\n",
      "  1.5   1.6   1.7   1.8   1.9   0.15  0.2   0.25  0.1   0.3   0.2   0.35\n",
      "  0.4   0.45  0.5   0.25  0.15  0.2   0.3   0.5   0.35  0.5   0.3   0.2\n",
      "  0.15  0.25  0.35  0.45  0.5   0.4   0.55  0.6   1.4   0.65  0.7   0.75\n",
      "  0.8   0.9   0.85  0.95  1.7   0.4   0.5   0.2 ]\n"
     ]
    },
    {
     "data": {
      "text/plain": [
       "<matplotlib.legend.Legend at 0xfae123c320>"
      ]
     },
     "execution_count": 15,
     "metadata": {},
     "output_type": "execute_result"
    }
   ],
   "source": [
    "Nplot = np.log10(N[:,-1]);\n",
    "Rplot = np.log10(R[:,-1]);\n",
    "Fplot = F[:,-1];\n",
    "Tplot = T[:,-0];\n",
    "print(Tplot);\n",
    "#Fit = np.log10(250 - (250 - 250**0.75) * np.exp(0.27*F**0.1-F**0.5));\n",
    "\n",
    "sio.savemat('Data.mat', {'R':Rplot, 'F':Fplot});\n",
    "plt.plot(Tplot, Rplot, '.', label='Simulation');\n",
    "#plt.plot(Fplot, Fit, 'x', label='Fit');\n",
    "plt.ylabel('Log10 of end to end distance');\n",
    "plt.xlabel('Force');\n",
    "plt.title('End to end distance for varying force');\n",
    "plt.legend(('Simulation', 'Fit'), loc=4);\n",
    "#fig = plt.figure()\n",
    "#ax = fig.add_subplot(111, projection='3d')\n",
    "#ax.plot_surface(Nplot,F,Rplot)"
   ]
  },
  {
   "cell_type": "markdown",
   "metadata": {
    "collapsed": false
   },
   "source": [
    "#### Nplot = np.log10(N[:,-1]);\n",
    "Rplot = np.log10(R[:,-1]);\n",
    "Fplot = F[:,-1]\n",
    "\n",
    "Fit = np.log10(250 - (250 - 250**0.75) * np.exp(0.27*F**0.1-F**0.5));\n",
    "\n",
    "sio.savemat('Data.mat', {'R':Rplot, 'F':Fplot});\n",
    "\n",
    "plt.plot(Fplot, Rplot, '.', label='Simulation')\n",
    "plt.plot(Fplot, Fit, 'x', label='Fit')\n",
    "plt.ylabel('Log10 of end to end distance');\n",
    "plt.xlabel('Force');\n",
    "plt.title('End to end distance for varying force')\n",
    "plt.legend(('Simulation', 'Fit'), loc=4);\n",
    "\n",
    "\n",
    "#fig = plt.figure()\n",
    "#ax = fig.add_subplot(111, projection='3d')\n",
    "#ax.plot_surface(Nplot,F,Rplot)"
   ]
  }
 ],
 "metadata": {
  "kernelspec": {
   "display_name": "Python 3",
   "language": "python",
   "name": "python3"
  },
  "language_info": {
   "codemirror_mode": {
    "name": "ipython",
    "version": 3
   },
   "file_extension": ".py",
   "mimetype": "text/x-python",
   "name": "python",
   "nbconvert_exporter": "python",
   "pygments_lexer": "ipython3",
   "version": "3.5.1"
  }
 },
 "nbformat": 4,
 "nbformat_minor": 0
}
