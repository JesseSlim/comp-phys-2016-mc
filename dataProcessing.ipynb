{
 "cells": [
  {
   "cell_type": "code",
   "execution_count": 5,
   "metadata": {
    "collapsed": false
   },
   "outputs": [],
   "source": [
    "%matplotlib inline\n",
    "import sys;\n",
    "import math;\n",
    "import os;\n",
    "import numpy as np;\n",
    "from numba import jit;\n",
    "import matplotlib.pyplot as plt"
   ]
  },
  {
   "cell_type": "code",
   "execution_count": 27,
   "metadata": {
    "collapsed": false,
    "scrolled": true
   },
   "outputs": [
    {
     "name": "stdout",
     "output_type": "stream",
     "text": [
      "0\n",
      "Done\n"
     ]
    }
   ],
   "source": [
    "\n",
    "def CalculateValues():\n",
    "    \n",
    "    Gyr = False;\n",
    "    \n",
    "    Folder = os.listdir(\"Data/\");\n",
    "\n",
    "    sizes    = np.zeros([250]);\n",
    "    gyration = np.zeros([250]);\n",
    "\n",
    "    c = 0;\n",
    "\n",
    "    for h in range(0,len(Folder)):\n",
    "        print(h);\n",
    "        Data = np.load(\"Data/\"+str(Folder[h]));\n",
    "        Settings = Data['Settings'];\n",
    "        Polymers = Data['Polymers']\n",
    "        for i in range(0, len(Polymers)):\n",
    "            c = c + 1;\n",
    "            for j in range(0, 250):\n",
    "                # Calculate the end to end distance\n",
    "                x = Polymers[i]['BeadPosition'][j,0];\n",
    "                y = Polymers[i]['BeadPosition'][j,1];\n",
    "                sizes[j] += x**2+y**2\n",
    "                \n",
    "                if (Gyr and j >= 1):\n",
    "                    # Calculaate the gyration distance\n",
    "                    xmean = np.mean(Polymers[i]['BeadPosition'][0:j,0]);\n",
    "                    ymean = np.mean(Polymers[i]['BeadPosition'][0:j,1]);\n",
    "                    g = 0;\n",
    "                    for k in range(0,j+1):\n",
    "                        g += (Polymers[i]['BeadPosition'][k,0]-xmean)**2;\n",
    "                        g += (Polymers[i]['BeadPosition'][k,1]-ymean)**2;\n",
    "                    g = g / (j+1);\n",
    "                    gyration[j] += g;\n",
    "\n",
    "        \n",
    "    for j in range(0, len(sizes)):\n",
    "        gyration[j] = gyration[j] / c\n",
    "        sizes[j] = sizes[j] / c\n",
    "                                  \n",
    "    return {'Gyration':gyration, 'Sizes':sizes}\n",
    "Result = CalculateValues();\n",
    "print(\"Done\")"
   ]
  },
  {
   "cell_type": "code",
   "execution_count": 22,
   "metadata": {
    "collapsed": false
   },
   "outputs": [
    {
     "name": "stdout",
     "output_type": "stream",
     "text": [
      "{'epsilon': 0.25, 'sigma': 0.8, 'T': 1, 'theta': 6}\n"
     ]
    }
   ],
   "source": [
    "Folder = os.listdir(\"Data/\");\n",
    "Data = np.load(\"Data/\"+str(Folder[0]));"
   ]
  },
  {
   "cell_type": "code",
   "execution_count": 24,
   "metadata": {
    "collapsed": false
   },
   "outputs": [
    {
     "ename": "NameError",
     "evalue": "name 'Result' is not defined",
     "output_type": "error",
     "traceback": [
      "\u001b[1;31m---------------------------------------------------------------------------\u001b[0m",
      "\u001b[1;31mNameError\u001b[0m                                 Traceback (most recent call last)",
      "\u001b[1;32m<ipython-input-24-6fd36ffad8b3>\u001b[0m in \u001b[0;36m<module>\u001b[1;34m()\u001b[0m\n\u001b[0;32m      7\u001b[0m \u001b[0max\u001b[0m\u001b[1;33m.\u001b[0m\u001b[0mset_yscale\u001b[0m\u001b[1;33m(\u001b[0m\u001b[1;34m'log'\u001b[0m\u001b[1;33m)\u001b[0m\u001b[1;33m\u001b[0m\u001b[0m\n\u001b[0;32m      8\u001b[0m \u001b[0max\u001b[0m\u001b[1;33m.\u001b[0m\u001b[0mset_xscale\u001b[0m\u001b[1;33m(\u001b[0m\u001b[1;34m'log'\u001b[0m\u001b[1;33m)\u001b[0m\u001b[1;33m\u001b[0m\u001b[0m\n\u001b[1;32m----> 9\u001b[1;33m \u001b[0mplot1\u001b[0m \u001b[1;33m=\u001b[0m \u001b[0max\u001b[0m\u001b[1;33m.\u001b[0m\u001b[0mplot\u001b[0m\u001b[1;33m(\u001b[0m\u001b[0mResult\u001b[0m\u001b[1;33m[\u001b[0m\u001b[1;34m'Gyration'\u001b[0m\u001b[1;33m]\u001b[0m\u001b[1;33m,\u001b[0m \u001b[0mlabel\u001b[0m\u001b[1;33m=\u001b[0m\u001b[1;34m'Simulation'\u001b[0m\u001b[1;33m)\u001b[0m\u001b[1;33m;\u001b[0m\u001b[1;33m\u001b[0m\u001b[0m\n\u001b[0m\u001b[0;32m     10\u001b[0m \u001b[0mplot2\u001b[0m \u001b[1;33m=\u001b[0m \u001b[0max\u001b[0m\u001b[1;33m.\u001b[0m\u001b[0mplot\u001b[0m\u001b[1;33m(\u001b[0m\u001b[0mt\u001b[0m\u001b[1;33m,\u001b[0m \u001b[0mlabel\u001b[0m\u001b[1;33m=\u001b[0m\u001b[1;34m'N^1.5'\u001b[0m\u001b[1;33m)\u001b[0m\u001b[1;33m\u001b[0m\u001b[0m\n\u001b[0;32m     11\u001b[0m \u001b[0max\u001b[0m\u001b[1;33m.\u001b[0m\u001b[0mlegend\u001b[0m\u001b[1;33m(\u001b[0m\u001b[0mloc\u001b[0m\u001b[1;33m=\u001b[0m\u001b[1;36m2\u001b[0m\u001b[1;33m)\u001b[0m\u001b[1;33m\u001b[0m\u001b[0m\n",
      "\u001b[1;31mNameError\u001b[0m: name 'Result' is not defined"
     ]
    },
    {
     "data": {
      "image/png": "[encoded data removed]",
      "text/plain": [
       "<matplotlib.figure.Figure at 0x62d6c18f60>"
      ]
     },
     "metadata": {},
     "output_type": "display_data"
    }
   ],
   "source": [
    "t = np.zeros([250]);\n",
    "for i in range(0,250):\n",
    "    t[i] = i**1.5;\n",
    "x = np.linspace(1,250,250);\n",
    "fig = plt.figure()\n",
    "ax = fig.add_subplot(1,1,1)\n",
    "ax.set_yscale('log')\n",
    "ax.set_xscale('log')\n",
    "plot1 = ax.plot(Result['Gyration'], label='Simulation');\n",
    "plot2 = ax.plot(t, label='N^1.5')\n",
    "ax.legend(loc=2)\n",
    "plt.title(\"Polymer size vs End to end distance\")\n",
    "plt.xlabel(\"Polymer size [N]\")\n",
    "plt.ylabel(\"End to end distance\")\n",
    "plt.show()"
   ]
  },
  {
   "cell_type": "code",
   "execution_count": 28,
   "metadata": {
    "collapsed": false
   },
   "outputs": [
    {
     "data": {
      "image/png": "[encoded data removed]",
      "text/plain": [
       "<matplotlib.figure.Figure at 0x62d707e978>"
      ]
     },
     "metadata": {},
     "output_type": "display_data"
    }
   ],
   "source": [
    "t = np.zeros([250]);\n",
    "for i in range(0,250):\n",
    "    t[i] = i**1.5;\n",
    "x = np.linspace(1,250,250);\n",
    "fig = plt.figure()\n",
    "ax = fig.add_subplot(1,1,1)\n",
    "ax.set_yscale('log')\n",
    "ax.set_xscale('log')\n",
    "plot1 = ax.plot(Result['Sizes'], label='Simulation');\n",
    "plot2 = ax.plot(t, label='N^1.5')\n",
    "ax.legend(loc=2)\n",
    "plt.title(\"Polymer size vs End to end distance\")\n",
    "plt.xlabel(\"Polymer size [N]\")\n",
    "plt.ylabel(\"End to end distance\")\n",
    "plt.show()"
   ]
  },
  {
   "cell_type": "code",
   "execution_count": null,
   "metadata": {
    "collapsed": true
   },
   "outputs": [],
   "source": []
  }
 ],
 "metadata": {
  "kernelspec": {
   "display_name": "Python 3",
   "language": "python",
   "name": "python3"
  },
  "language_info": {
   "codemirror_mode": {
    "name": "ipython",
    "version": 3
   },
   "file_extension": ".py",
   "mimetype": "text/x-python",
   "name": "python",
   "nbconvert_exporter": "python",
   "pygments_lexer": "ipython3",
   "version": "3.5.1"
  }
 },
 "nbformat": 4,
 "nbformat_minor": 0
}
