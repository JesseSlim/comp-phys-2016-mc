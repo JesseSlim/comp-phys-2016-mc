{
 "cells": [
  {
   "cell_type": "code",
   "execution_count": 1,
   "metadata": {
    "collapsed": true
   },
   "outputs": [],
   "source": [
    "%matplotlib inline\n",
    "\n",
    "import numpy as np\n",
    "import matplotlib.pyplot as plt\n",
    "import sys\n",
    "\n",
    "def print_fl(output):\n",
    "    print(output)\n",
    "    sys.stdout.flush()\n",
    "\n",
    "def get_raw_filename(sim_id, num_pol, T, F):\n",
    "    return \"../perm-sim-id-%s-numpol-%d-T-%.2f-F-%.2f.npz\" % (sim_id, num_pol, T, F)\n",
    "\n",
    "def get_summary_filename(sim_id, num_pol, T, F):\n",
    "    return \"../summaries/perm-summary-%s-numpol-%d-T-%.2f-F-%.2f.npz\" % (sim_id, num_pol, T, F)\n",
    "\n",
    "def calculate_weighted_stddevs(qty, ws, n, axis=0):\n",
    "    avg_qty = np.average(qty, axis=axis, weights=ws)\n",
    "    dsq_qty = (qty - avg_qty)**2\n",
    "    var_qty = np.average(dsq_qty, axis=axis, weights=ws)\n",
    "    return np.sqrt(var_qty / n)"
   ]
  },
  {
   "cell_type": "code",
   "execution_count": 2,
   "metadata": {
    "collapsed": true
   },
   "outputs": [],
   "source": [
    "Ts = np.linspace(0.2, 6.0, 30)\n",
    "Fs = np.concatenate((np.linspace(0.0, 0.1, 11), np.linspace(0.2, 1.0, 9)))"
   ]
  },
  {
   "cell_type": "code",
   "execution_count": 10,
   "metadata": {
    "collapsed": false
   },
   "outputs": [],
   "source": [
    "def transcribe_summaries(sim_id_in, sim_id_out, num_pol, Ts, Fs):\n",
    "    for F in Fs:\n",
    "        for T in Ts:\n",
    "            print_fl(\"Processing T: %.2f\\t F: %.2f\" % (T, F))\n",
    "            with np.load(get_raw_filename(sim_id_in, num_pol, T, F)) as rawData:\n",
    "                sumData = dict()\n",
    "                sumData[\"pol_weight_renormalization\"] = rawData[\"pol_weight_renormalization\"]\n",
    "                sumData[\"epsilon\"] = rawData[\"epsilon\"]\n",
    "                sumData[\"n_theta\"] = rawData[\"n_theta\"]\n",
    "                sumData[\"sigma\"] = rawData[\"sigma\"]\n",
    "                sumData[\"enable_LJ_interaction\"] = rawData[\"enable_LJ_interaction\"]\n",
    "                sumData[\"n_dim\"] = rawData[\"n_dim\"]\n",
    "                sumData[\"F\"] = rawData[\"F\"]\n",
    "                sumData[\"n\"] = rawData[\"n\"]\n",
    "                sumData[\"T\"] = rawData[\"T\"]\n",
    "                sumData[\"F\"] = rawData[\"F\"]\n",
    "                sumData[\"max_size\"] = rawData[\"max_size\"]\n",
    "                sumData[\"d\"] = rawData[\"d\"]\n",
    "\n",
    "                #sumData[\"r_end\"] = rawData[\"r_end\"]\n",
    "                sumData[\"final_weights\"] = rawData[\"pol_weights\"][:,-1]\n",
    "\n",
    "                sumData[\"x_e2e\"] = np.average(rawData[\"r_end\"][:,:,0], axis=0, weights=rawData[\"pol_weights\"])\n",
    "                sumData[\"y_e2e\"] = np.average(rawData[\"r_end\"][:,:,1], axis=0, weights=rawData[\"pol_weights\"])\n",
    "\n",
    "                sumData[\"x_e2e_sd\"] = calculate_weighted_stddevs(rawData[\"r_end\"][:,:,0], rawData[\"pol_weights\"], num_pol)\n",
    "                sumData[\"y_e2e_sd\"] = calculate_weighted_stddevs(rawData[\"r_end\"][:,:,1], rawData[\"pol_weights\"], num_pol)\n",
    "\n",
    "                sumData[\"r_e2e\"] = np.average(rawData[\"r_e2e\"], axis=0, weights=rawData[\"pol_weights\"])\n",
    "                sumData[\"r_gyration\"] = np.average(rawData[\"r_gyration\"], axis=0, weights=rawData[\"pol_weights\"])\n",
    "                sumData[\"energies\"] = np.average(rawData[\"energies\"], axis=0, weights=rawData[\"pol_weights\"])\n",
    "\n",
    "                sumData[\"r_e2e_sd\"] = calculate_weighted_stddevs(rawData[\"r_e2e\"], rawData[\"pol_weights\"], num_pol)\n",
    "                sumData[\"r_gyration_sd\"] = calculate_weighted_stddevs(rawData[\"r_gyration\"], rawData[\"pol_weights\"], num_pol)\n",
    "                sumData[\"energies_sd\"] = calculate_weighted_stddevs(rawData[\"energies\"], rawData[\"pol_weights\"], num_pol)\n",
    "\n",
    "                np.savez(get_summary_filename(sim_id_out, num_pol, T, F), **sumData)"
   ]
  },
  {
   "cell_type": "code",
   "execution_count": 13,
   "metadata": {
    "collapsed": false
   },
   "outputs": [
    {
     "name": "stdout",
     "output_type": "stream",
     "text": [
      "Processing T: 0.20\t F: 4.00\n",
      "Processing T: 1.00\t F: 4.00\n",
      "Processing T: 2.00\t F: 4.00\n",
      "Processing T: 3.00\t F: 4.00\n",
      "Processing T: 4.00\t F: 4.00\n",
      "Processing T: 5.00\t F: 4.00\n",
      "Processing T: 6.00\t F: 4.00\n",
      "Processing T: 0.20\t F: 4.50\n",
      "Processing T: 1.00\t F: 4.50\n",
      "Processing T: 2.00\t F: 4.50\n",
      "Processing T: 3.00\t F: 4.50\n",
      "Processing T: 4.00\t F: 4.50\n",
      "Processing T: 5.00\t F: 4.50\n",
      "Processing T: 6.00\t F: 4.50\n",
      "Processing T: 0.20\t F: 5.00\n",
      "Processing T: 1.00\t F: 5.00\n",
      "Processing T: 2.00\t F: 5.00\n",
      "Processing T: 3.00\t F: 5.00\n",
      "Processing T: 4.00\t F: 5.00\n",
      "Processing T: 5.00\t F: 5.00\n",
      "Processing T: 6.00\t F: 5.00\n",
      "Processing T: 0.20\t F: 5.50\n",
      "Processing T: 1.00\t F: 5.50\n",
      "Processing T: 2.00\t F: 5.50\n",
      "Processing T: 3.00\t F: 5.50\n",
      "Processing T: 4.00\t F: 5.50\n",
      "Processing T: 5.00\t F: 5.50\n",
      "Processing T: 6.00\t F: 5.50\n",
      "Processing T: 0.20\t F: 6.00\n",
      "Processing T: 1.00\t F: 6.00\n",
      "Processing T: 2.00\t F: 6.00\n",
      "Processing T: 3.00\t F: 6.00\n",
      "Processing T: 4.00\t F: 6.00\n",
      "Processing T: 5.00\t F: 6.00\n",
      "Processing T: 6.00\t F: 6.00\n",
      "Processing T: 0.20\t F: 6.50\n",
      "Processing T: 1.00\t F: 6.50\n",
      "Processing T: 2.00\t F: 6.50\n",
      "Processing T: 3.00\t F: 6.50\n",
      "Processing T: 4.00\t F: 6.50\n",
      "Processing T: 5.00\t F: 6.50\n",
      "Processing T: 6.00\t F: 6.50\n",
      "Processing T: 0.20\t F: 7.00\n",
      "Processing T: 1.00\t F: 7.00\n",
      "Processing T: 2.00\t F: 7.00\n",
      "Processing T: 3.00\t F: 7.00\n",
      "Processing T: 4.00\t F: 7.00\n",
      "Processing T: 5.00\t F: 7.00\n",
      "Processing T: 6.00\t F: 7.00\n",
      "Processing T: 0.20\t F: 7.50\n",
      "Processing T: 1.00\t F: 7.50\n",
      "Processing T: 2.00\t F: 7.50\n",
      "Processing T: 3.00\t F: 7.50\n",
      "Processing T: 4.00\t F: 7.50\n",
      "Processing T: 5.00\t F: 7.50\n",
      "Processing T: 6.00\t F: 7.50\n",
      "Processing T: 0.20\t F: 8.00\n",
      "Processing T: 1.00\t F: 8.00\n",
      "Processing T: 2.00\t F: 8.00\n",
      "Processing T: 3.00\t F: 8.00\n",
      "Processing T: 4.00\t F: 8.00\n",
      "Processing T: 5.00\t F: 8.00\n",
      "Processing T: 6.00\t F: 8.00\n"
     ]
    }
   ],
   "source": [
    "#Tin = np.array([0.08])\n",
    "#Fin = np.concatenate((np.linspace(0.0, 0.1, 11), np.linspace(0.2, 1.0, 9), np.linspace(1.25, 3.50, 10)))\n",
    "\n",
    "Tin = np.array([0.2, 1.0, 2.0, 3.0, 4.0, 5.0, 6.0])\n",
    "Fin = np.linspace(4.0, 8.0, 9)\n",
    "\n",
    "transcribe_summaries(\"jfcont\", \"jsaw10k\", 10000, Tin, Fin)"
   ]
  },
  {
   "cell_type": "code",
   "execution_count": 5,
   "metadata": {
    "collapsed": false
   },
   "outputs": [
    {
     "data": {
      "image/png": "[encoded data removed]",
      "text/plain": [
       "<matplotlib.figure.Figure at 0x10a01d4a8>"
      ]
     },
     "metadata": {},
     "output_type": "display_data"
    },
    {
     "data": {
      "image/png": "[encoded data removed]",
      "text/plain": [
       "<matplotlib.figure.Figure at 0x10a01d128>"
      ]
     },
     "metadata": {},
     "output_type": "display_data"
    }
   ],
   "source": [
    "F = 0.0\n",
    "sim_id = \"jsaw10k\"\n",
    "num_pol = 10000\n",
    "\n",
    "T_data = np.zeros((len(Ts)))\n",
    "\n",
    "i = 0\n",
    "for T in Ts:\n",
    "    with np.load(get_summary_filename(sim_id, num_pol, T, F)) as data:\n",
    "        r_e2e = data[\"r_e2e\"]\n",
    "        plt.plot(r_e2e)\n",
    "        T_data[i] = r_e2e[-1]\n",
    "    i += 1\n",
    "    \n",
    "plt.figure()\n",
    "plt.plot(Ts, T_data)\n",
    "plt.yscale('log')\n",
    "plt.show()"
   ]
  },
  {
   "cell_type": "code",
   "execution_count": 6,
   "metadata": {
    "collapsed": false
   },
   "outputs": [
    {
     "ename": "NameError",
     "evalue": "name 'a' is not defined",
     "output_type": "error",
     "traceback": [
      "\u001b[0;31m---------------------------------------------------------------------------\u001b[0m",
      "\u001b[0;31mNameError\u001b[0m                                 Traceback (most recent call last)",
      "\u001b[0;32m<ipython-input-6-6b479f3565bc>\u001b[0m in \u001b[0;36m<module>\u001b[0;34m()\u001b[0m\n\u001b[0;32m----> 1\u001b[0;31m \u001b[0ma\u001b[0m\u001b[0;34m.\u001b[0m\u001b[0mkeys\u001b[0m\u001b[0;34m(\u001b[0m\u001b[0;34m)\u001b[0m\u001b[0;34m\u001b[0m\u001b[0m\n\u001b[0m",
      "\u001b[0;31mNameError\u001b[0m: name 'a' is not defined"
     ]
    }
   ],
   "source": [
    "a.keys()"
   ]
  },
  {
   "cell_type": "code",
   "execution_count": 7,
   "metadata": {
    "collapsed": false
   },
   "outputs": [
    {
     "ename": "NameError",
     "evalue": "name 'a' is not defined",
     "output_type": "error",
     "traceback": [
      "\u001b[0;31m---------------------------------------------------------------------------\u001b[0m",
      "\u001b[0;31mNameError\u001b[0m                                 Traceback (most recent call last)",
      "\u001b[0;32m<ipython-input-7-bf3606fd8f7d>\u001b[0m in \u001b[0;36m<module>\u001b[0;34m()\u001b[0m\n\u001b[0;32m----> 1\u001b[0;31m \u001b[0mavg_e2e\u001b[0m \u001b[0;34m=\u001b[0m \u001b[0mnp\u001b[0m\u001b[0;34m.\u001b[0m\u001b[0maverage\u001b[0m\u001b[0;34m(\u001b[0m\u001b[0ma\u001b[0m\u001b[0;34m[\u001b[0m\u001b[0;34m\"r_e2e\"\u001b[0m\u001b[0;34m]\u001b[0m\u001b[0;34m,\u001b[0m \u001b[0maxis\u001b[0m\u001b[0;34m=\u001b[0m\u001b[0;36m0\u001b[0m\u001b[0;34m,\u001b[0m \u001b[0mweights\u001b[0m\u001b[0;34m=\u001b[0m\u001b[0ma\u001b[0m\u001b[0;34m[\u001b[0m\u001b[0;34m\"pol_weights\"\u001b[0m\u001b[0;34m]\u001b[0m\u001b[0;34m)\u001b[0m\u001b[0;34m\u001b[0m\u001b[0m\n\u001b[0m\u001b[1;32m      2\u001b[0m \u001b[0mbd\u001b[0m \u001b[0;34m=\u001b[0m \u001b[0mnp\u001b[0m\u001b[0;34m.\u001b[0m\u001b[0marange\u001b[0m\u001b[0;34m(\u001b[0m\u001b[0;36m250\u001b[0m\u001b[0;34m)\u001b[0m\u001b[0;34m\u001b[0m\u001b[0m\n\u001b[1;32m      3\u001b[0m \u001b[0mavg_e2e\u001b[0m\u001b[0;34m.\u001b[0m\u001b[0mshape\u001b[0m\u001b[0;34m\u001b[0m\u001b[0m\n",
      "\u001b[0;31mNameError\u001b[0m: name 'a' is not defined"
     ]
    }
   ],
   "source": [
    "avg_e2e = np.average(a[\"r_e2e\"], axis=0, weights=a[\"pol_weights\"])\n",
    "bd = np.arange(250)\n",
    "avg_e2e.shape"
   ]
  },
  {
   "cell_type": "code",
   "execution_count": null,
   "metadata": {
    "collapsed": false
   },
   "outputs": [],
   "source": [
    "plt.plot(avg_e2e)"
   ]
  },
  {
   "cell_type": "code",
   "execution_count": null,
   "metadata": {
    "collapsed": false
   },
   "outputs": [],
   "source": [
    "a[\"energies\"].shape"
   ]
  },
  {
   "cell_type": "code",
   "execution_count": null,
   "metadata": {
    "collapsed": false
   },
   "outputs": [],
   "source": [
    "a[\"n\"]"
   ]
  },
  {
   "cell_type": "code",
   "execution_count": null,
   "metadata": {
    "collapsed": false
   },
   "outputs": [],
   "source": [
    "a[\"r_end\"].shape"
   ]
  },
  {
   "cell_type": "code",
   "execution_count": null,
   "metadata": {
    "collapsed": true
   },
   "outputs": [],
   "source": []
  }
 ],
 "metadata": {
  "kernelspec": {
   "display_name": "Python 3",
   "language": "python",
   "name": "python3"
  },
  "language_info": {
   "codemirror_mode": {
    "name": "ipython",
    "version": 3
   },
   "file_extension": ".py",
   "mimetype": "text/x-python",
   "name": "python",
   "nbconvert_exporter": "python",
   "pygments_lexer": "ipython3",
   "version": "3.5.1"
  }
 },
 "nbformat": 4,
 "nbformat_minor": 0
}
