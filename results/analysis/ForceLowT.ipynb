{
 "cells": [
  {
   "cell_type": "code",
   "execution_count": 4,
   "metadata": {
    "collapsed": true
   },
   "outputs": [],
   "source": [
    "%matplotlib inline\n",
    "\n",
    "import numpy as np\n",
    "import scipy.optimize\n",
    "import scipy.special\n",
    "import matplotlib.pyplot as plt\n",
    "import sys\n",
    "\n",
    "def print_fl(output):\n",
    "    print(output)\n",
    "    sys.stdout.flush()\n",
    "\n",
    "def get_raw_filename(sim_id, num_pol, T, F):\n",
    "    return \"../perm-sim-id-%s-numpol-%d-T-%.2f-F-%.2f.npz\" % (sim_id, num_pol, T, F)\n",
    "\n",
    "def get_summary_filename(sim_id, num_pol, T, F):\n",
    "    return \"../summaries/perm-summary-%s-numpol-%d-T-%.2f-F-%.2f.npz\" % (sim_id, num_pol, T, F)"
   ]
  },
  {
   "cell_type": "code",
   "execution_count": 5,
   "metadata": {
    "collapsed": true
   },
   "outputs": [],
   "source": [
    "sim_id = \"forcelowt\"\n",
    "num_pol = 10000\n",
    "\n",
    "T = 0.08\n",
    "Fs = np.concatenate((np.linspace(0.0, 0.1, 11), np.linspace(0.2, 1.0, 9), np.linspace(1.25, 3.50, 10)))"
   ]
  },
  {
   "cell_type": "code",
   "execution_count": 6,
   "metadata": {
    "collapsed": false
   },
   "outputs": [],
   "source": [
    "r_e2es = np.zeros((len(Fs)))\n",
    "x_e2es = np.zeros((len(Fs)))\n",
    "\n",
    "for i in range(len(Fs)):\n",
    "    with np.load(get_summary_filename(sim_id, num_pol, T, Fs[i])) as data:\n",
    "        r_e2es[i] = data[\"r_e2e\"][-1]\n",
    "        x_e2es[i] = data[\"x_e2e\"][-1]"
   ]
  },
  {
   "cell_type": "code",
   "execution_count": 9,
   "metadata": {
    "collapsed": false
   },
   "outputs": [
    {
     "data": {
      "text/plain": [
       "[<matplotlib.lines.Line2D at 0x10db05400>]"
      ]
     },
     "execution_count": 9,
     "metadata": {},
     "output_type": "execute_result"
    },
    {
     "data": {
      "image/png": "[encoded data removed]",
      "text/plain": [
       "<matplotlib.figure.Figure at 0x10db05208>"
      ]
     },
     "metadata": {},
     "output_type": "display_data"
    }
   ],
   "source": [
    "pf2_curve = lambda FE: scipy.special.iv(1, FE) / scipy.special.iv(0, FE)\n",
    "\n",
    "d = 1.0\n",
    "\n",
    "plt.plot(Fs, x_e2es, label=r\"simulation at $T$ = 0.08\")\n",
    "plt.plot(Fs, 250*pf2_curve(Fs*d/T), label=r\"model prediction for 2D FJC\")\n",
    "\n",
    "plt.xlabel()"
   ]
  },
  {
   "cell_type": "code",
   "execution_count": null,
   "metadata": {
    "collapsed": true
   },
   "outputs": [],
   "source": []
  }
 ],
 "metadata": {
  "kernelspec": {
   "display_name": "Python 3",
   "language": "python",
   "name": "python3"
  },
  "language_info": {
   "codemirror_mode": {
    "name": "ipython",
    "version": 3
   },
   "file_extension": ".py",
   "mimetype": "text/x-python",
   "name": "python",
   "nbconvert_exporter": "python",
   "pygments_lexer": "ipython3",
   "version": "3.5.1"
  }
 },
 "nbformat": 4,
 "nbformat_minor": 0
}
