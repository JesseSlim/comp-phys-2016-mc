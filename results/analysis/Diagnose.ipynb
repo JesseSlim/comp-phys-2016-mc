{
 "cells": [
  {
   "cell_type": "code",
   "execution_count": 1,
   "metadata": {
    "collapsed": true
   },
   "outputs": [],
   "source": [
    "%matplotlib inline\n",
    "\n",
    "import numpy as np\n",
    "import matplotlib.pyplot as plt\n",
    "import sys\n",
    "\n",
    "def print_fl(output):\n",
    "    print(output)\n",
    "    sys.stdout.flush()\n",
    "\n",
    "def get_raw_filename(sim_id, num_pol, T, F):\n",
    "    return \"../perm-sim-id-%s-numpol-%d-T-%.2f-F-%.2f.npz\" % (sim_id, num_pol, T, F)\n",
    "\n",
    "def get_summary_filename(sim_id, num_pol, T, F):\n",
    "    return \"../summaries/perm-summary-%s-numpol-%d-T-%.2f-F-%.2f.npz\" % (sim_id, num_pol, T, F)"
   ]
  },
  {
   "cell_type": "code",
   "execution_count": 8,
   "metadata": {
    "collapsed": true
   },
   "outputs": [],
   "source": [
    "def check_validity(sim_id, num_pol, T, F):\n",
    "    valid = False\n",
    "    with np.load(get_raw_filename(sim_id, num_pol, T, F)) as data:\n",
    "        valid = np.all(np.isfinite(data[\"pol_weights\"]))\n",
    "        #print_fl(np.max(data[\"pol_weights\"]))\n",
    "    return valid"
   ]
  },
  {
   "cell_type": "code",
   "execution_count": 9,
   "metadata": {
    "collapsed": true
   },
   "outputs": [],
   "source": [
    "Ts = np.linspace(0.2, 6.0, 30)\n",
    "Fs = np.concatenate((np.linspace(0.0, 0.1, 11), np.linspace(0.2, 1.0, 9)))"
   ]
  },
  {
   "cell_type": "code",
   "execution_count": 10,
   "metadata": {
    "collapsed": false
   },
   "outputs": [
    {
     "name": "stdout",
     "output_type": "stream",
     "text": [
      "0.20, 0.50\n",
      "0.20, 0.60\n",
      "0.20, 0.70\n",
      "0.20, 0.80\n",
      "0.20, 0.90\n",
      "0.20, 1.00\n"
     ]
    }
   ],
   "source": [
    "sim_id = \"jsaw10k\"\n",
    "num_pol = 10000\n",
    "\n",
    "for T in Ts:\n",
    "    for F in Fs:\n",
    "        if not check_validity(sim_id, num_pol, T, F):\n",
    "            print_fl((\"%.2f, %.2f\" % (T, F)))"
   ]
  },
  {
   "cell_type": "code",
   "execution_count": null,
   "metadata": {
    "collapsed": true
   },
   "outputs": [],
   "source": []
  }
 ],
 "metadata": {
  "kernelspec": {
   "display_name": "Python 3",
   "language": "python",
   "name": "python3"
  },
  "language_info": {
   "codemirror_mode": {
    "name": "ipython",
    "version": 3
   },
   "file_extension": ".py",
   "mimetype": "text/x-python",
   "name": "python",
   "nbconvert_exporter": "python",
   "pygments_lexer": "ipython3",
   "version": "3.5.1"
  }
 },
 "nbformat": 4,
 "nbformat_minor": 0
}
