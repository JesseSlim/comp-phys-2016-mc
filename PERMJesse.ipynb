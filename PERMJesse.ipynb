{
 "cells": [
  {
   "cell_type": "code",
   "execution_count": 1,
   "metadata": {
    "collapsed": false
   },
   "outputs": [],
   "source": [
    "%matplotlib inline\n",
    "\n",
    "import numpy as np\n",
    "import matplotlib.pyplot as plt\n",
    "import scipy.spatial\n",
    "import scipy.optimize\n",
    "import sys\n",
    "\n",
    "def print_fl(output):\n",
    "    print(output)\n",
    "    sys.stdout.flush()\n",
    "    \n",
    "from PERMSimulation import PERMSimulation\n",
    "\n",
    "#import warnings\n",
    "#warnings.simplefilter(\"error\")"
   ]
  },
  {
   "cell_type": "code",
   "execution_count": 2,
   "metadata": {
    "collapsed": false,
    "scrolled": true
   },
   "outputs": [
    {
     "name": "stdout",
     "output_type": "stream",
     "text": [
      "I: 1\t n: 10000\t p: 0\t e: 0\t w: 1.711830e+00\n",
      "I: 2\t n: 10000\t p: 0\t e: 0\t w: 2.250305e+00\n",
      "I: 3\t n: 10000\t p: 0\t e: 0\t w: 2.779726e+00\n",
      "I: 4\t n: 10000\t p: 66\t e: 66\t w: 3.362286e+00\n",
      "I: 5\t n: 10000\t p: 223\t e: 223\t w: 4.023900e+00\n",
      "I: 6\t n: 10000\t p: 279\t e: 279\t w: 4.784225e+00\n",
      "I: 7\t n: 10000\t p: 308\t e: 308\t w: 5.672532e+00\n"
     ]
    },
    {
     "name": "stderr",
     "output_type": "stream",
     "text": [
      "/Users/jesse/Code/comp-phys-2016-mc/PERMSimulation.py:91: RuntimeWarning: invalid value encountered in true_divide\n",
      "  theta_probabilities = np.nan_to_num(theta_boltzmann / self.capital_Ws[:,self.iteration,np.newaxis])\n"
     ]
    },
    {
     "name": "stdout",
     "output_type": "stream",
     "text": [
      "I: 8\t n: 10000\t p: 309\t e: 309\t w: 6.659476e+00\n",
      "I: 9\t n: 10000\t p: 371\t e: 371\t w: 7.832313e+00\n",
      "I: 10\t n: 10000\t p: 346\t e: 346\t w: 9.151703e+00\n",
      "I: 11\t n: 10000\t p: 314\t e: 314\t w: 1.062633e+01\n",
      "I: 12\t n: 10000\t p: 327\t e: 327\t w: 1.236094e+01\n",
      "I: 13\t n: 10000\t p: 361\t e: 361\t w: 1.429433e+01\n",
      "I: 14\t n: 10000\t p: 379\t e: 379\t w: 1.656368e+01\n",
      "I: 15\t n: 10000\t p: 347\t e: 347\t w: 1.909224e+01\n",
      "I: 16\t n: 10000\t p: 331\t e: 331\t w: 2.209219e+01\n",
      "I: 17\t n: 10000\t p: 356\t e: 356\t w: 2.560894e+01\n",
      "I: 18\t n: 10000\t p: 370\t e: 370\t w: 2.962650e+01\n",
      "I: 19\t n: 10000\t p: 355\t e: 355\t w: 3.416642e+01\n",
      "I: 20\t n: 10000\t p: 349\t e: 349\t w: 3.961659e+01\n",
      "I: 21\t n: 10000\t p: 362\t e: 362\t w: 4.594010e+01\n",
      "I: 22\t n: 10000\t p: 353\t e: 353\t w: 5.312461e+01\n",
      "I: 23\t n: 10000\t p: 355\t e: 355\t w: 6.081281e+01\n",
      "I: 24\t n: 10000\t p: 362\t e: 362\t w: 7.001478e+01\n",
      "I: 25\t n: 10000\t p: 344\t e: 344\t w: 8.047533e+01\n",
      "I: 26\t n: 10000\t p: 354\t e: 354\t w: 9.242783e+01\n",
      "I: 27\t n: 10000\t p: 379\t e: 379\t w: 1.057612e+02\n",
      "I: 28\t n: 10000\t p: 375\t e: 375\t w: 1.211837e+02\n",
      "I: 29\t n: 10000\t p: 361\t e: 361\t w: 1.373576e+02\n",
      "I: 30\t n: 10000\t p: 346\t e: 346\t w: 1.574138e+02\n",
      "I: 31\t n: 10000\t p: 371\t e: 371\t w: 1.804581e+02\n",
      "I: 32\t n: 10000\t p: 367\t e: 367\t w: 2.065102e+02\n",
      "I: 33\t n: 10000\t p: 345\t e: 345\t w: 2.362576e+02\n",
      "I: 34\t n: 10000\t p: 353\t e: 353\t w: 2.705866e+02\n",
      "I: 35\t n: 10000\t p: 373\t e: 373\t w: 3.098959e+02\n",
      "I: 36\t n: 10000\t p: 346\t e: 346\t w: 3.543428e+02\n",
      "I: 37\t n: 10000\t p: 361\t e: 361\t w: 4.042122e+02\n",
      "I: 38\t n: 10000\t p: 370\t e: 370\t w: 4.618893e+02\n",
      "I: 39\t n: 10000\t p: 371\t e: 371\t w: 5.303404e+02\n",
      "I: 40\t n: 10000\t p: 375\t e: 375\t w: 6.029687e+02\n",
      "I: 41\t n: 10000\t p: 380\t e: 380\t w: 6.893961e+02\n",
      "I: 42\t n: 10000\t p: 359\t e: 359\t w: 7.887496e+02\n",
      "I: 43\t n: 10000\t p: 353\t e: 353\t w: 9.000294e+02\n",
      "I: 44\t n: 10000\t p: 340\t e: 340\t w: 1.024435e+03\n",
      "I: 45\t n: 10000\t p: 373\t e: 373\t w: 1.171245e+03\n",
      "I: 46\t n: 10000\t p: 378\t e: 378\t w: 1.337502e+03\n",
      "I: 47\t n: 10000\t p: 352\t e: 352\t w: 1.521253e+03\n",
      "I: 48\t n: 10000\t p: 359\t e: 359\t w: 1.743193e+03\n",
      "I: 49\t n: 10000\t p: 365\t e: 365\t w: 1.992619e+03\n",
      "I: 50\t n: 10000\t p: 360\t e: 360\t w: 2.272761e+03\n",
      "I: 51\t n: 10000\t p: 367\t e: 367\t w: 2.596071e+03\n",
      "I: 52\t n: 10000\t p: 330\t e: 330\t w: 2.963569e+03\n",
      "I: 53\t n: 10000\t p: 347\t e: 347\t w: 3.379153e+03\n",
      "I: 54\t n: 10000\t p: 401\t e: 401\t w: 3.838990e+03\n",
      "I: 55\t n: 10000\t p: 350\t e: 350\t w: 4.385635e+03\n",
      "I: 56\t n: 10000\t p: 383\t e: 383\t w: 4.962932e+03\n",
      "I: 57\t n: 10000\t p: 366\t e: 366\t w: 5.666150e+03\n",
      "I: 58\t n: 10000\t p: 369\t e: 369\t w: 6.412226e+03\n",
      "I: 59\t n: 10000\t p: 369\t e: 369\t w: 7.289709e+03\n",
      "I: 60\t n: 10000\t p: 370\t e: 370\t w: 8.298582e+03\n",
      "I: 61\t n: 10000\t p: 301\t e: 301\t w: 9.535474e+03\n",
      "I: 62\t n: 10000\t p: 349\t e: 349\t w: 1.085448e+04\n",
      "I: 63\t n: 10000\t p: 334\t e: 334\t w: 1.239969e+04\n",
      "I: 64\t n: 10000\t p: 369\t e: 369\t w: 1.408525e+04\n",
      "I: 65\t n: 10000\t p: 338\t e: 338\t w: 1.609429e+04\n",
      "I: 66\t n: 10000\t p: 357\t e: 357\t w: 1.837813e+04\n",
      "I: 67\t n: 10000\t p: 367\t e: 367\t w: 2.097371e+04\n",
      "I: 68\t n: 10000\t p: 350\t e: 350\t w: 2.389335e+04\n",
      "I: 69\t n: 10000\t p: 376\t e: 376\t w: 2.715473e+04\n",
      "I: 70\t n: 10000\t p: 349\t e: 349\t w: 3.101563e+04\n",
      "I: 71\t n: 10000\t p: 342\t e: 342\t w: 3.540472e+04\n",
      "I: 72\t n: 10000\t p: 348\t e: 348\t w: 4.020710e+04\n",
      "I: 73\t n: 10000\t p: 378\t e: 378\t w: 4.600489e+04\n",
      "I: 74\t n: 10000\t p: 312\t e: 312\t w: 5.231974e+04\n",
      "I: 75\t n: 10000\t p: 379\t e: 379\t w: 5.927926e+04\n",
      "I: 76\t n: 10000\t p: 352\t e: 352\t w: 6.746551e+04\n",
      "I: 77\t n: 10000\t p: 342\t e: 342\t w: 7.694334e+04\n",
      "I: 78\t n: 10000\t p: 340\t e: 340\t w: 8.731371e+04\n",
      "I: 79\t n: 10000\t p: 392\t e: 392\t w: 9.893970e+04\n",
      "I: 80\t n: 10000\t p: 359\t e: 359\t w: 1.127230e+05\n",
      "I: 81\t n: 10000\t p: 361\t e: 361\t w: 1.277147e+05\n",
      "I: 82\t n: 10000\t p: 362\t e: 362\t w: 1.455232e+05\n",
      "I: 83\t n: 10000\t p: 342\t e: 342\t w: 1.662219e+05\n",
      "I: 84\t n: 10000\t p: 361\t e: 361\t w: 1.885756e+05\n",
      "I: 85\t n: 10000\t p: 335\t e: 335\t w: 2.145865e+05\n",
      "I: 86\t n: 10000\t p: 343\t e: 343\t w: 2.452963e+05\n",
      "I: 87\t n: 10000\t p: 382\t e: 382\t w: 2.794870e+05\n",
      "I: 88\t n: 10000\t p: 340\t e: 340\t w: 3.182483e+05\n",
      "I: 89\t n: 10000\t p: 342\t e: 342\t w: 3.632242e+05\n",
      "I: 90\t n: 10000\t p: 363\t e: 363\t w: 4.103137e+05\n",
      "I: 91\t n: 10000\t p: 350\t e: 350\t w: 4.693402e+05\n",
      "I: 92\t n: 10000\t p: 355\t e: 355\t w: 5.323493e+05\n",
      "I: 93\t n: 10000\t p: 318\t e: 318\t w: 6.089848e+05\n",
      "I: 94\t n: 10000\t p: 334\t e: 334\t w: 6.969117e+05\n",
      "I: 95\t n: 10000\t p: 354\t e: 354\t w: 7.943170e+05\n",
      "I: 96\t n: 10000\t p: 384\t e: 384\t w: 9.037866e+05\n",
      "I: 97\t n: 10000\t p: 329\t e: 329\t w: 1.028578e+06\n",
      "I: 98\t n: 10000\t p: 342\t e: 342\t w: 1.173853e+06\n",
      "I: 99\t n: 10000\t p: 330\t e: 330\t w: 1.336298e+06\n",
      "I: 100\t n: 10000\t p: 334\t e: 334\t w: 1.521186e+06\n",
      "I: 101\t n: 10000\t p: 337\t e: 337\t w: 1.730963e+06\n",
      "I: 102\t n: 10000\t p: 349\t e: 349\t w: 1.977605e+06\n",
      "I: 103\t n: 10000\t p: 368\t e: 368\t w: 2.253963e+06\n",
      "I: 104\t n: 10000\t p: 318\t e: 318\t w: 2.571381e+06\n",
      "I: 105\t n: 10000\t p: 365\t e: 365\t w: 2.923827e+06\n",
      "I: 106\t n: 10000\t p: 326\t e: 326\t w: 3.339010e+06\n",
      "I: 107\t n: 10000\t p: 332\t e: 332\t w: 3.804970e+06\n",
      "I: 108\t n: 10000\t p: 339\t e: 339\t w: 4.345849e+06\n",
      "I: 109\t n: 10000\t p: 341\t e: 341\t w: 4.930305e+06\n",
      "I: 110\t n: 10000\t p: 338\t e: 338\t w: 5.584363e+06\n",
      "I: 111\t n: 10000\t p: 320\t e: 320\t w: 6.356658e+06\n",
      "I: 112\t n: 10000\t p: 374\t e: 374\t w: 7.207645e+06\n",
      "I: 113\t n: 10000\t p: 385\t e: 385\t w: 8.237353e+06\n",
      "I: 114\t n: 10000\t p: 334\t e: 334\t w: 9.377146e+06\n",
      "I: 115\t n: 10000\t p: 316\t e: 316\t w: 1.071431e+07\n",
      "I: 116\t n: 10000\t p: 333\t e: 333\t w: 1.220561e+07\n",
      "I: 117\t n: 10000\t p: 359\t e: 359\t w: 1.389475e+07\n",
      "I: 118\t n: 10000\t p: 324\t e: 324\t w: 1.587404e+07\n",
      "I: 119\t n: 10000\t p: 324\t e: 324\t w: 1.811269e+07\n",
      "I: 120\t n: 10000\t p: 345\t e: 345\t w: 2.063533e+07\n",
      "I: 121\t n: 10000\t p: 326\t e: 326\t w: 2.352411e+07\n",
      "I: 122\t n: 10000\t p: 334\t e: 334\t w: 2.694945e+07\n",
      "I: 123\t n: 10000\t p: 334\t e: 334\t w: 3.057811e+07\n",
      "I: 124\t n: 10000\t p: 352\t e: 352\t w: 3.474362e+07\n",
      "I: 125\t n: 10000\t p: 315\t e: 315\t w: 3.954270e+07\n",
      "I: 126\t n: 10000\t p: 344\t e: 344\t w: 4.498602e+07\n",
      "I: 127\t n: 10000\t p: 323\t e: 323\t w: 5.126880e+07\n",
      "I: 128\t n: 10000\t p: 322\t e: 322\t w: 5.851253e+07\n",
      "I: 129\t n: 10000\t p: 333\t e: 333\t w: 6.628190e+07\n",
      "I: 130\t n: 10000\t p: 340\t e: 340\t w: 7.519006e+07\n",
      "I: 131\t n: 10000\t p: 340\t e: 340\t w: 8.593996e+07\n",
      "I: 132\t n: 10000\t p: 316\t e: 316\t w: 9.744045e+07\n",
      "I: 133\t n: 10000\t p: 339\t e: 339\t w: 1.115746e+08\n",
      "I: 134\t n: 10000\t p: 303\t e: 303\t w: 1.276178e+08\n",
      "I: 135\t n: 10000\t p: 340\t e: 340\t w: 1.456498e+08\n",
      "I: 136\t n: 10000\t p: 325\t e: 325\t w: 1.666347e+08\n",
      "I: 137\t n: 10000\t p: 310\t e: 310\t w: 1.893706e+08\n",
      "I: 138\t n: 10000\t p: 346\t e: 346\t w: 2.155370e+08\n",
      "I: 139\t n: 10000\t p: 333\t e: 333\t w: 2.465547e+08\n",
      "I: 140\t n: 10000\t p: 346\t e: 346\t w: 2.815373e+08\n",
      "I: 141\t n: 10000\t p: 324\t e: 324\t w: 3.185853e+08\n",
      "I: 142\t n: 10000\t p: 350\t e: 350\t w: 3.624014e+08\n",
      "I: 143\t n: 10000\t p: 344\t e: 344\t w: 4.105603e+08\n",
      "I: 144\t n: 10000\t p: 351\t e: 351\t w: 4.657466e+08\n",
      "I: 145\t n: 10000\t p: 353\t e: 353\t w: 5.256035e+08\n",
      "I: 146\t n: 10000\t p: 324\t e: 324\t w: 5.975781e+08\n",
      "I: 147\t n: 10000\t p: 341\t e: 341\t w: 6.738870e+08\n",
      "I: 148\t n: 10000\t p: 360\t e: 360\t w: 7.683366e+08\n",
      "I: 149\t n: 10000\t p: 328\t e: 328\t w: 8.714748e+08\n",
      "I: 150\t n: 10000\t p: 318\t e: 318\t w: 9.945325e+08\n",
      "I: 151\t n: 10000\t p: 336\t e: 336\t w: 1.126484e+09\n",
      "I: 152\t n: 10000\t p: 333\t e: 333\t w: 1.287129e+09\n",
      "I: 153\t n: 10000\t p: 346\t e: 346\t w: 1.461545e+09\n",
      "I: 154\t n: 10000\t p: 335\t e: 335\t w: 1.658281e+09\n",
      "I: 155\t n: 10000\t p: 317\t e: 317\t w: 1.891783e+09\n",
      "I: 156\t n: 10000\t p: 348\t e: 348\t w: 2.151808e+09\n",
      "I: 157\t n: 10000\t p: 369\t e: 369\t w: 2.444725e+09\n",
      "I: 158\t n: 10000\t p: 309\t e: 309\t w: 2.778537e+09\n",
      "I: 159\t n: 10000\t p: 377\t e: 377\t w: 3.173883e+09\n",
      "I: 160\t n: 10000\t p: 331\t e: 331\t w: 3.607451e+09\n",
      "I: 161\t n: 10000\t p: 329\t e: 329\t w: 4.112954e+09\n",
      "I: 162\t n: 10000\t p: 283\t e: 283\t w: 4.657414e+09\n",
      "I: 163\t n: 10000\t p: 345\t e: 345\t w: 5.318380e+09\n",
      "I: 164\t n: 10000\t p: 321\t e: 321\t w: 6.033947e+09\n",
      "I: 165\t n: 10000\t p: 317\t e: 317\t w: 6.858575e+09\n",
      "I: 166\t n: 10000\t p: 324\t e: 324\t w: 7.797410e+09\n",
      "I: 167\t n: 10000\t p: 351\t e: 351\t w: 8.832120e+09\n",
      "I: 168\t n: 10000\t p: 351\t e: 351\t w: 1.004430e+10\n",
      "I: 169\t n: 10000\t p: 318\t e: 318\t w: 1.144648e+10\n",
      "I: 170\t n: 10000\t p: 335\t e: 335\t w: 1.301177e+10\n",
      "I: 171\t n: 10000\t p: 318\t e: 318\t w: 1.480956e+10\n",
      "I: 172\t n: 10000\t p: 322\t e: 322\t w: 1.674483e+10\n",
      "I: 173\t n: 10000\t p: 334\t e: 334\t w: 1.906600e+10\n",
      "I: 174\t n: 10000\t p: 311\t e: 311\t w: 2.178762e+10\n",
      "I: 175\t n: 10000\t p: 319\t e: 319\t w: 2.477097e+10\n",
      "I: 176\t n: 10000\t p: 314\t e: 314\t w: 2.807395e+10\n",
      "I: 177\t n: 10000\t p: 328\t e: 328\t w: 3.199782e+10\n",
      "I: 178\t n: 10000\t p: 319\t e: 319\t w: 3.651927e+10\n",
      "I: 179\t n: 10000\t p: 337\t e: 337\t w: 4.167406e+10\n",
      "I: 180\t n: 10000\t p: 322\t e: 322\t w: 4.754337e+10\n",
      "I: 181\t n: 10000\t p: 307\t e: 307\t w: 5.375836e+10\n",
      "I: 182\t n: 10000\t p: 309\t e: 309\t w: 6.131828e+10\n",
      "I: 183\t n: 10000\t p: 317\t e: 317\t w: 6.987975e+10\n",
      "I: 184\t n: 10000\t p: 309\t e: 309\t w: 7.906398e+10\n",
      "I: 185\t n: 10000\t p: 336\t e: 336\t w: 8.942507e+10\n",
      "I: 186\t n: 10000\t p: 326\t e: 326\t w: 1.013467e+11\n",
      "I: 187\t n: 10000\t p: 333\t e: 333\t w: 1.159464e+11\n",
      "I: 188\t n: 10000\t p: 357\t e: 357\t w: 1.312741e+11\n",
      "I: 189\t n: 10000\t p: 345\t e: 345\t w: 1.494873e+11\n",
      "I: 190\t n: 10000\t p: 319\t e: 319\t w: 1.693592e+11\n",
      "I: 191\t n: 10000\t p: 303\t e: 303\t w: 1.917615e+11\n",
      "I: 192\t n: 10000\t p: 341\t e: 341\t w: 2.189638e+11\n",
      "I: 193\t n: 10000\t p: 297\t e: 297\t w: 2.490234e+11\n",
      "I: 194\t n: 10000\t p: 355\t e: 355\t w: 2.851688e+11\n",
      "I: 195\t n: 10000\t p: 293\t e: 293\t w: 3.253438e+11\n",
      "I: 196\t n: 10000\t p: 281\t e: 281\t w: 3.707518e+11\n",
      "I: 197\t n: 10000\t p: 312\t e: 312\t w: 4.218248e+11\n",
      "I: 198\t n: 10000\t p: 307\t e: 307\t w: 4.774339e+11\n",
      "I: 199\t n: 10000\t p: 358\t e: 358\t w: 5.416477e+11\n",
      "I: 200\t n: 10000\t p: 353\t e: 353\t w: 6.160536e+11\n",
      "I: 201\t n: 10000\t p: 333\t e: 333\t w: 6.996685e+11\n",
      "I: 202\t n: 10000\t p: 308\t e: 308\t w: 8.006891e+11\n",
      "I: 203\t n: 10000\t p: 284\t e: 284\t w: 9.064588e+11\n",
      "I: 204\t n: 10000\t p: 318\t e: 318\t w: 1.031075e+12\n",
      "I: 205\t n: 10000\t p: 322\t e: 322\t w: 1.172926e+12\n",
      "I: 206\t n: 10000\t p: 292\t e: 292\t w: 1.328382e+12\n",
      "I: 207\t n: 10000\t p: 306\t e: 306\t w: 1.506475e+12\n",
      "I: 208\t n: 10000\t p: 318\t e: 318\t w: 1.726092e+12\n",
      "I: 209\t n: 10000\t p: 296\t e: 296\t w: 1.967613e+12\n",
      "I: 210\t n: 10000\t p: 320\t e: 320\t w: 2.251294e+12\n",
      "I: 211\t n: 10000\t p: 311\t e: 311\t w: 2.560000e+12\n",
      "I: 212\t n: 10000\t p: 302\t e: 302\t w: 2.908609e+12\n",
      "I: 213\t n: 10000\t p: 289\t e: 289\t w: 3.325686e+12\n",
      "I: 214\t n: 10000\t p: 297\t e: 297\t w: 3.780512e+12\n",
      "I: 215\t n: 10000\t p: 329\t e: 329\t w: 4.307981e+12\n",
      "I: 216\t n: 10000\t p: 289\t e: 289\t w: 4.913848e+12\n",
      "I: 217\t n: 10000\t p: 314\t e: 314\t w: 5.590924e+12\n",
      "I: 218\t n: 10000\t p: 354\t e: 354\t w: 6.339882e+12\n",
      "I: 219\t n: 10000\t p: 300\t e: 300\t w: 7.202935e+12\n",
      "I: 220\t n: 10000\t p: 328\t e: 328\t w: 8.162765e+12\n",
      "I: 221\t n: 10000\t p: 318\t e: 318\t w: 9.283752e+12\n",
      "I: 222\t n: 10000\t p: 276\t e: 276\t w: 1.057018e+13\n",
      "I: 223\t n: 10000\t p: 331\t e: 331\t w: 1.205268e+13\n",
      "I: 224\t n: 10000\t p: 306\t e: 306\t w: 1.369182e+13\n",
      "I: 225\t n: 10000\t p: 348\t e: 348\t w: 1.559307e+13\n",
      "I: 226\t n: 10000\t p: 302\t e: 302\t w: 1.770945e+13\n",
      "I: 227\t n: 10000\t p: 350\t e: 350\t w: 2.014684e+13\n",
      "I: 228\t n: 10000\t p: 349\t e: 349\t w: 2.286768e+13\n",
      "I: 229\t n: 10000\t p: 327\t e: 327\t w: 2.594659e+13\n",
      "I: 230\t n: 10000\t p: 297\t e: 297\t w: 2.938554e+13\n",
      "I: 231\t n: 10000\t p: 327\t e: 327\t w: 3.325047e+13\n",
      "I: 232\t n: 10000\t p: 321\t e: 321\t w: 3.795921e+13\n",
      "I: 233\t n: 10000\t p: 331\t e: 331\t w: 4.296118e+13\n",
      "I: 234\t n: 10000\t p: 327\t e: 327\t w: 4.890758e+13\n",
      "I: 235\t n: 10000\t p: 308\t e: 308\t w: 5.540482e+13\n",
      "I: 236\t n: 10000\t p: 323\t e: 323\t w: 6.265772e+13\n",
      "I: 237\t n: 10000\t p: 310\t e: 310\t w: 7.124989e+13\n",
      "I: 238\t n: 10000\t p: 301\t e: 301\t w: 8.057596e+13\n",
      "I: 239\t n: 10000\t p: 298\t e: 298\t w: 9.033231e+13\n",
      "I: 240\t n: 10000\t p: 304\t e: 304\t w: 1.027827e+14\n",
      "I: 241\t n: 10000\t p: 331\t e: 331\t w: 1.163694e+14\n",
      "I: 242\t n: 10000\t p: 308\t e: 308\t w: 1.319554e+14\n",
      "I: 243\t n: 10000\t p: 321\t e: 321\t w: 1.498896e+14\n",
      "I: 244\t n: 10000\t p: 380\t e: 380\t w: 1.708617e+14\n",
      "I: 245\t n: 10000\t p: 304\t e: 304\t w: 1.944001e+14\n",
      "I: 246\t n: 10000\t p: 310\t e: 310\t w: 2.206083e+14\n",
      "I: 247\t n: 10000\t p: 312\t e: 312\t w: 2.494569e+14\n",
      "I: 248\t n: 10000\t p: 310\t e: 310\t w: 2.830066e+14\n",
      "I: 249\t n: 10000\t p: 293\t e: 293\t w: 3.204429e+14\n",
      "CPU times: user 3min 22s, sys: 6.71 s, total: 3min 29s\n",
      "Wall time: 3min 33s\n"
     ]
    }
   ],
   "source": [
    "testSim = PERMSimulation()\n",
    "\n",
    "testSim.F = 0.01\n",
    "testSim.initialise(10000,10000)\n",
    "%time testSim.run_simulation()"
   ]
  },
  {
   "cell_type": "code",
   "execution_count": 4,
   "metadata": {
    "collapsed": false
   },
   "outputs": [
    {
     "name": "stdout",
     "output_type": "stream",
     "text": [
      "(250,)\n",
      "[ 0.84907671  0.74768545]\n"
     ]
    },
    {
     "data": {
      "image/png": "[encoded data removed]",
      "text/plain": [
       "<matplotlib.figure.Figure at 0x1155c03c8>"
      ]
     },
     "metadata": {},
     "output_type": "display_data"
    }
   ],
   "source": [
    "r_e2e = np.average(testSim.results_r_e2e, axis=0, weights=testSim.results_pol_weights)\n",
    "\n",
    "dev_r_e2e = (testSim.results_r_e2e - r_e2e)**2\n",
    "var_r_e2e = np.average(dev_r_e2e, axis=0, weights=testSim.results_pol_weights) / testSim.n\n",
    "print(r_e2e.shape)\n",
    "lengths = np.arange(0,np.size(r_e2e))\n",
    "x = lengths[:]\n",
    "y = r_e2e[:]\n",
    "p, _ = scipy.optimize.curve_fit(lambda x,a,v: a*(x**v), x, y, p0=np.array([1, 0.75]))\n",
    "print(p)\n",
    "\n",
    "fig = plt.figure()\n",
    "ax = plt.gca()\n",
    "ax.set_yscale('log')\n",
    "ax.set_xscale('log')\n",
    "ax.errorbar(x, y, yerr=np.sqrt(var_r_e2e), label=\"simulation\", linestyle=\"None\")\n",
    "ax.plot(x, p[0]*(x**p[1]), label=\"fit\")\n",
    "\n",
    "ax.set_ylim(p[0],10**np.ceil(np.math.log(np.max(r_e2e), 10)))\n",
    "ax.set_xlim(0,np.size(r_e2e))\n",
    "\n",
    "plt.xlabel(r\"number of polymer links $L$\")\n",
    "plt.ylabel(r\"average end-to-end distance $R$\")\n",
    "\n",
    "plt.legend(loc=4)\n",
    "plt.show()\n"
   ]
  },
  {
   "cell_type": "code",
   "execution_count": null,
   "metadata": {
    "collapsed": false
   },
   "outputs": [],
   "source": []
  },
  {
   "cell_type": "code",
   "execution_count": 9,
   "metadata": {
    "collapsed": false
   },
   "outputs": [
    {
     "data": {
      "image/png": "[encoded data removed]",
      "text/plain": [
       "<matplotlib.figure.Figure at 0x11b2c2278>"
      ]
     },
     "metadata": {},
     "output_type": "display_data"
    }
   ],
   "source": [
    "i = 7\n",
    "\n",
    "plt.plot(testSim.r[i,:,0], testSim.r[i,:,1])\n",
    "plt.show()"
   ]
  },
  {
   "cell_type": "code",
   "execution_count": null,
   "metadata": {
    "collapsed": false
   },
   "outputs": [],
   "source": [
    "testSim.pol_weights.shape[0]"
   ]
  },
  {
   "cell_type": "code",
   "execution_count": null,
   "metadata": {
    "collapsed": true
   },
   "outputs": [],
   "source": [
    "a = np.arange(10)"
   ]
  },
  {
   "cell_type": "code",
   "execution_count": null,
   "metadata": {
    "collapsed": false
   },
   "outputs": [],
   "source": [
    "a[-0:]"
   ]
  },
  {
   "cell_type": "code",
   "execution_count": null,
   "metadata": {
    "collapsed": true
   },
   "outputs": [],
   "source": []
  }
 ],
 "metadata": {
  "kernelspec": {
   "display_name": "Python 3",
   "language": "python",
   "name": "python3"
  },
  "language_info": {
   "codemirror_mode": {
    "name": "ipython",
    "version": 3
   },
   "file_extension": ".py",
   "mimetype": "text/x-python",
   "name": "python",
   "nbconvert_exporter": "python",
   "pygments_lexer": "ipython3",
   "version": "3.5.1"
  }
 },
 "nbformat": 4,
 "nbformat_minor": 0
}
