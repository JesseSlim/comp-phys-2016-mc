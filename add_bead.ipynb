{
 "cells": [
  {
   "cell_type": "code",
   "execution_count": 1,
   "metadata": {
    "collapsed": true
   },
   "outputs": [],
   "source": [
    "%matplotlib inline\n",
    "\n",
    "import numpy as np\n",
    "import matplotlib.pyplot as plt"
   ]
  },
  {
   "cell_type": "code",
   "execution_count": 257,
   "metadata": {
    "collapsed": false
   },
   "outputs": [],
   "source": [
    "# Parameters\n",
    "\n",
    "def initialize():\n",
    "    global ampol\n",
    "    global N\n",
    "    global amthe\n",
    "    global d\n",
    "    global eps\n",
    "    global sig\n",
    "    global T\n",
    "    global kB\n",
    "    global x\n",
    "    global y\n",
    "    global status\n",
    "    global polweight\n",
    "    global weights\n",
    "    global wtot\n",
    "    global wave\n",
    "    \n",
    "    ampol = 100    # Starting amount of polymers\n",
    "    N = 30        # Amount of steps\n",
    "    amthe = 6     # Amount of possible angles\n",
    "\n",
    "    d = 1         # Distance between neighbours\n",
    "    eps = 0.25\n",
    "    sig = 0.8\n",
    "    T = 1.0       # Temperature\n",
    "    kB = 1.0\n",
    "\n",
    "    # Coordinates\n",
    "\n",
    "    x = np.zeros((ampol,N))\n",
    "    y = np.zeros((ampol,N))\n",
    "    x[:,1] = 1.0\n",
    "    \n",
    "    status = np.zeros(ampol)\n",
    "    polweight = np.ones(ampol)\n",
    "    weights = np.zeros((ampol,N))\n",
    "    wtot = np.zeros(N)\n",
    "    wave = np.zeros(N)\n",
    "\n",
    "# function add bead\n",
    "\n",
    "def add_bead(polnum,beadnum):\n",
    "    \n",
    "    global x\n",
    "    global y\n",
    "    global weights\n",
    "    global polweight\n",
    "    \n",
    "    # distances, energies and angles\n",
    "\n",
    "    r = np.zeros(N-1)\n",
    "    Eb = np.zeros(N-1)\n",
    "    posthe = np.zeros(amthe)   #array of possible theta\n",
    "    w = np.zeros(amthe)        #possible weights per theta\n",
    "    Pr = np.zeros(amthe)       #Probability of weights\n",
    "    \n",
    "    W = 0\n",
    "    while W == 0.0:\n",
    "        randoff = np.random.uniform(0,1) #random offset for angle\n",
    "        for j in range (0,amthe):\n",
    "            theta = randoff + j*2*np.pi/amthe\n",
    "            x[polnum,beadnum] = x[polnum,beadnum-1] + d*np.cos(theta)\n",
    "            y[polnum,beadnum] = y[polnum,beadnum-1] + d*np.sin(theta)\n",
    "            for i in range (0,beadnum):\n",
    "                r[i] = ((x[polnum,i]-x[polnum,beadnum])**2+(y[polnum,i]-y[polnum,beadnum])**2)**0.5 #determine distance to other beads\n",
    "                Eb[i] = 4*eps*((sig/r[i])**12-(sig/r[i])**6) #energy per other bead\n",
    "            E = np.sum(Eb) #total energy of step\n",
    "            w[j] = np.exp(-E/(kB*T))\n",
    "        W = np.sum(w)\n",
    "        polweight[polnum] = polweight[polnum]*W*(1/(0.75*amthe))\n",
    "\n",
    "    randang = np.random.uniform(0,1) #random nr for determining angle\n",
    "    cump = 0.0\n",
    "    for j in range (0,amthe):\n",
    "        Pr[j] = w[j]/W #determine probability of angle\n",
    "        cump = cump + Pr[j]\n",
    "        if randang <= cump: #determine angle\n",
    "            theta = randoff + j*2*np.pi/amthe\n",
    "            weights[polnum,beadnum] = w[j]\n",
    "            break\n",
    "\n",
    "    x[polnum,beadnum] = x[polnum,beadnum-1] + d*np.cos(theta)\n",
    "    y[polnum,beadnum] = y[polnum,beadnum-1] + d*np.sin(theta)\n",
    "\n",
    "    \n",
    "def check_polweight(polnum,beadnum): #set weights and limits for chosen angle\n",
    "\n",
    "    global ampol\n",
    "    global x\n",
    "    global y\n",
    "    global status\n",
    "    global polweight\n",
    "    global weights\n",
    "    global wtot\n",
    "    global wave\n",
    "    global deadcount\n",
    "    global duplicated\n",
    "    \n",
    "    \n",
    "    wtot[beadnum] = np.sum(weights[:,beadnum])\n",
    "    wave[beadnum] = wtot[beadnum]/(polnum+1)\n",
    "    uplim = 2.0*wave[beadnum]/weights[polnum,2]\n",
    "    lowlim = 1.0*wave[beadnum]/weights[polnum,2]\n",
    "\n",
    "    if polweight[polnum] < lowlim:\n",
    "        R = np.random.uniform(0,1)\n",
    "        if R < 0.5:\n",
    "            polweight[polnum] *= 2\n",
    "        else:\n",
    "            status[polnum] = 1.0\n",
    "            deadcount += 1\n",
    "        \n",
    "    elif polweight[polnum] > uplim:\n",
    "        polweight[polnum] *= 0.5\n",
    "        x = np.append(x, [x[polnum,:]], axis=0)\n",
    "        y = np.append(y, [y[polnum,:]], axis=0)\n",
    "        status = np.append(status, 0.0)\n",
    "        polweight = np.append(polweight, polweight[polnum])\n",
    "        weights = np.append(weights, [weights[polnum,:]],axis=0)\n",
    "        duplicated += 1\n",
    "               \n",
    "    \n",
    "def run_simulation():\n",
    "    \n",
    "    global ampol\n",
    "    global x\n",
    "    global y\n",
    "    global status\n",
    "    global polweight\n",
    "    global weights\n",
    "    global deadcount\n",
    "    global duplicated\n",
    "    \n",
    "    initialize()\n",
    "    \n",
    "    for beadnum in range (2,N):\n",
    "        \n",
    "        deadcount = 0\n",
    "        duplicated = 0\n",
    "        \n",
    "        for polnum in range (0,ampol):\n",
    "            add_bead(polnum,beadnum)\n",
    "        for polnum in range (0,ampol):\n",
    "            check_polweight(polnum,beadnum)\n",
    "        \n",
    "        delpollist = np.where(status > 0)\n",
    "        \n",
    "        for delpol in delpollist:\n",
    "            x = np.delete(x, delpol, axis=0)\n",
    "            y = np.delete(y, delpol, axis=0)\n",
    "            polweight = np.delete(polweight,delpol)\n",
    "            weights = np.delete(weights, delpol, axis=0)\n",
    "            status = np.delete(status, delpol)\n",
    "        \n",
    "        ampol = np.size(x,0)\n",
    "        \n",
    "        \n",
    "        #print('#polymers %r, deaths %r, duplicated %r, prev %r' %(ampol,deadcount,duplicated,ampol+deadcount-duplicated))\n",
    "        \n",
    "\n",
    "def end_to_end():\n",
    "    global x\n",
    "    global y\n",
    "    \n",
    "    run_simulation()\n",
    "    \n",
    "    R_sq = np.mean((x[:,:]**2 + y[:,:]**2), axis=0)\n",
    "    \n",
    "    plt.plot(R_sq)\n",
    "        "
   ]
  },
  {
   "cell_type": "code",
   "execution_count": 258,
   "metadata": {
    "collapsed": false,
    "scrolled": false
   },
   "outputs": [
    {
     "data": {
      "image/png": "[encoded data removed]",
      "text/plain": [
       "<matplotlib.figure.Figure at 0x25cb6dec780>"
      ]
     },
     "metadata": {},
     "output_type": "display_data"
    }
   ],
   "source": [
    "end_to_end()"
   ]
  },
  {
   "cell_type": "code",
   "execution_count": 259,
   "metadata": {
    "collapsed": false
   },
   "outputs": [
    {
     "data": {
      "text/plain": [
       "0"
      ]
     },
     "execution_count": 259,
     "metadata": {},
     "output_type": "execute_result"
    }
   ],
   "source": [
    "0"
   ]
  },
  {
   "cell_type": "code",
   "execution_count": null,
   "metadata": {
    "collapsed": true
   },
   "outputs": [],
   "source": []
  }
 ],
 "metadata": {
  "kernelspec": {
   "display_name": "Python 3",
   "language": "python",
   "name": "python3"
  },
  "language_info": {
   "codemirror_mode": {
    "name": "ipython",
    "version": 3
   },
   "file_extension": ".py",
   "mimetype": "text/x-python",
   "name": "python",
   "nbconvert_exporter": "python",
   "pygments_lexer": "ipython3",
   "version": "3.5.1"
  }
 },
 "nbformat": 4,
 "nbformat_minor": 0
}
